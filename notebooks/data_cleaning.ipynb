{
 "cells": [
  {
   "cell_type": "code",
   "execution_count": null,
   "id": "fac4b497-0ae3-40fa-93dc-fb45c71606ea",
   "metadata": {},
   "outputs": [],
   "source": [
    "import os \n",
    "import pandas as pd\n",
    "import calendar"
   ]
  },
  {
   "cell_type": "code",
   "execution_count": null,
   "id": "ce7956c6-0c38-4d0f-80bd-0e4a79a7d2e7",
   "metadata": {},
   "outputs": [],
   "source": [
    "data_file = os.path.join('./banned_books.csv')\n",
    "data = pd.read_csv(data_file)"
   ]
  },
  {
   "cell_type": "code",
   "execution_count": null,
   "id": "cd3d34f6-7a36-457a-a8c8-627130c52591",
   "metadata": {},
   "outputs": [],
   "source": [
    "# convert ID field to numbers (do I really need it)\n",
    "data[\"ID\"] = pd.to_numeric(data[\"ID\"])"
   ]
  },
  {
   "cell_type": "code",
   "execution_count": null,
   "id": "fbd6e607-47ba-417b-a130-2a90e17e2900",
   "metadata": {},
   "outputs": [],
   "source": [
    "# Drop columns without a lot of data\n",
    "data = data.drop(\"Links1\", axis=1)\n",
    "data = data.drop(\"Links2\", axis=1)\n",
    "data = data.drop(\"Links3\", axis=1)\n",
    "data = data.drop(\"Links4\", axis=1)\n",
    "data = data.drop(\"Police\", axis=1)\n",
    "data = data.drop(\"Illustrators\", axis=1)\n",
    "data = data.drop(\"Book_Co_Author\", axis=1)\n",
    "data = data.drop(\"Restrictions\", axis=1)\n",
    "data = data.drop(\"Restriction_Details\", axis=1)\n",
    "data = data.drop(\"Overseeing_Agency\", axis=1)\n",
    "data = data.drop(\"Last_Updated\", axis=1)\n",
    "data = data.drop(\"Initial_Response\", axis=1)\n",
    "data = data.drop(\"Challenge_Notes\", axis=1)\n",
    "data = data.drop(\"Sch_Name\", axis=1)\n",
    "data = data.drop(\"Lib_name\", axis=1)\n",
    "data = data.drop(\"Data_Entry_Date\", axis=1)\n",
    "data = data.drop(\"Series_Name\", axis=1)\n",
    "data = data.drop(\"City\", axis=1)\n",
    "data = data.drop(\"County\", axis=1)\n",
    "data = data.drop(\"Book_Status\", axis=1)\n",
    "\n",
    "display(data.columns)"
   ]
  },
  {
   "cell_type": "code",
   "execution_count": null,
   "id": "e69ba447-c894-4cc9-b7b4-d615896186f9",
   "metadata": {},
   "outputs": [],
   "source": [
    "# change unset values to Unclear in challenge type\n",
    "data[\"Challenge_Type\"] = data[\"Challenge_Type\"].fillna(\"Unclear\")\n",
    "\n",
    "# change unset values to Affiliation Unknown in challenge init\n",
    "data[\"Challenge_Init\"] = data[\"Challenge_Init\"].fillna(\"Affiliation Unknown\")\n",
    "\n",
    "# change unset values to Affiliation Unknown in challenge init\n",
    "data[\"Decision\"] = data[\"Decision\"].fillna(\"Unknown\")\n",
    "\n",
    "\n",
    "#drop NaN from months, years, state\n",
    "data = data.dropna(subset=['Month', \"Year\", \"State\"])"
   ]
  },
  {
   "cell_type": "code",
   "execution_count": null,
   "id": "a58ee7c3-1fbe-4bf5-8673-e36eb2b723f9",
   "metadata": {},
   "outputs": [],
   "source": [
    "# fix months and years\n",
    "# remove weird labels \n",
    "data = data.drop(data[data[\"Month\"] == \"22-23\"].index)\n",
    "data = data.drop(data[data[\"Month\"] == \"Unclear\"].index)\n",
    "data = data.drop(data[data[\"Month\"] == \"Spring\"].index)\n",
    "data = data.drop(data[data[\"Month\"] == \"Summer\"].index)\n",
    "data = data.drop(data[data[\"Month\"] == \"Fall\"].index)\n",
    "\n",
    "# convert named months to number\n",
    "months = {month: index for index, month in enumerate(calendar.month_name) if month}\n",
    "for month, idx in months.items():\n",
    "    data = data.replace(month, idx)\n",
    "\n",
    "# make all months and years numeric\n",
    "data[\"Month\"] = data[\"Month\"].astype(\"uint8\")\n",
    "data[\"Year\"] = data[\"Year\"].astype(\"uint16\")"
   ]
  },
  {
   "cell_type": "code",
   "execution_count": null,
   "id": "073b9b5b-48d2-4d18-86b9-ec1bdd0afdcf",
   "metadata": {},
   "outputs": [],
   "source": [
    "\n",
    "# data[data[\"Decision\"] == \"Weeded/Deselected\"]\n",
    "data[\"Decision\"] = data[\"Decision\"].replace(\"Banned From Library\", \"Banned\")\n",
    "data[\"Decision\"] = data[\"Decision\"].replace(\"Banned/Removed\", \"Banned\")\n",
    "data[\"Decision\"] = data[\"Decision\"].replace(\"Removed\", \"Banned\")\n",
    "\n",
    "data[\"Decision\"] = data[\"Decision\"].replace(\"Removed - Curriculum\", \"Removed From Curriculum\")\n",
    "\n",
    "data[\"Decision\"] = data[\"Decision\"].replace(\"Retained\", \"Reshelved\")\n",
    "data[\"Decision\"] = data[\"Decision\"].replace(\"Returned\", \"Reshelved\")\n",
    "data[\"Decision\"] = data[\"Decision\"].replace(\"No Action\", \"Reshelved\")\n",
    "\n",
    "data[\"Decision\"] = data[\"Decision\"].replace(\"Challenged - Removed While Under Review\", \"In Process\")\n",
    "data[\"Decision\"] = data[\"Decision\"].replace(\"Still in Process\", \"In Process\")\n",
    "data[\"Decision\"] = data[\"Decision\"].replace(\"Still in ProcessStill in Process\", \"In Process\")\n",
    "\n",
    "data[\"Decision\"] = data[\"Decision\"].replace(\"Retained Restricted\", \"Restricted\")\n",
    "data[\"Decision\"] = data[\"Decision\"].replace(\"Retained/Restricted\", \"Restricted\")\n",
    "\n",
    "data[\"Decision\"] = data[\"Decision\"].replace(\"Weeded\", \"Reshelved\")\n",
    "data[\"Decision\"] = data[\"Decision\"].replace(\"Weeded/Deselected\", \"Reshelved\")\n",
    "\n",
    "# I dont know what \"Lost\" Means in this context and only 4 cells have the value\n",
    "data = data.drop(data[data[\"Decision\"] == '\"Lost\"'].index)\n",
    "# data[\"Decision\"] = data[\"Decision\"].replace('\"Lost\"', \"Restricted\")"
   ]
  },
  {
   "cell_type": "code",
   "execution_count": null,
   "id": "428a4dd9-387c-44a1-978f-e36c71edfe88",
   "metadata": {},
   "outputs": [],
   "source": [
    "data[\"Challenge_Init\"] = data[\"Challenge_Init\"].replace(\"School/Library Board Member\", \"Board Member\")\n",
    "data[\"Challenge_Init\"] = data[\"Challenge_Init\"].replace(\"FLCA\", \"Group\")"
   ]
  },
  {
   "cell_type": "code",
   "execution_count": null,
   "id": "cc2baa1f-57fb-414e-8e00-e9b4597c97c0",
   "metadata": {},
   "outputs": [],
   "source": [
    "# recompute id field\n",
    "data[\"author\"] = data[\"New_Book_Author\"]\n",
    "data = data.drop(\"New_Book_Author\", axis=1)\n",
    "\n",
    "data[\"title\"] = data[\"New_Book_Title\"]\n",
    "data = data.drop(\"New_Book_Title\", axis=1)\n",
    "\n",
    "data[\"challenge_type\"] = data[\"Challenge_Type\"]\n",
    "data = data.drop(\"Challenge_Type\", axis=1)\n",
    "\n",
    "data[\"challenger\"] = data[\"Challenge_Init\"]\n",
    "data = data.drop(\"Challenge_Init\", axis=1)\n",
    "\n",
    "data[\"decision\"] = data[\"Decision\"]\n",
    "data = data.drop(\"Decision\", axis=1)\n",
    "\n",
    "data[\"library_type\"] = data[\"Library_Type\"]\n",
    "data = data.drop(\"Library_Type\", axis=1)\n",
    "\n",
    "data[\"day\"] = 1\n",
    "data[\"month\"] = data[\"Month\"]\n",
    "data = data.drop(\"Month\", axis=1)\n",
    "data[\"year\"] = data[\"Year\"]\n",
    "data = data.drop(\"Year\", axis=1)\n",
    "\n",
    "data[\"challenge_date\"] = pd.to_datetime(data[[\"month\", \"year\", \"day\"]])\n",
    "\n",
    "data[\"state\"] = data[\"State\"]\n",
    "data = data.drop(\"State\", axis=1)"
   ]
  },
  {
   "cell_type": "code",
   "execution_count": null,
   "id": "f5aaabcf-6c96-429b-91b3-88c19026c01e",
   "metadata": {},
   "outputs": [],
   "source": [
    "data.to_pickle(\"banned_books_clean.pickle\")"
   ]
  },
  {
   "cell_type": "code",
   "execution_count": null,
   "id": "5f140eea-fdd8-4967-9f66-45441bb81323",
   "metadata": {},
   "outputs": [],
   "source": []
  }
 ],
 "metadata": {
  "kernelspec": {
   "display_name": "Python 3 (ipykernel)",
   "language": "python",
   "name": "python3"
  },
  "language_info": {
   "codemirror_mode": {
    "name": "ipython",
    "version": 3
   },
   "file_extension": ".py",
   "mimetype": "text/x-python",
   "name": "python",
   "nbconvert_exporter": "python",
   "pygments_lexer": "ipython3",
   "version": "3.11.2"
  }
 },
 "nbformat": 4,
 "nbformat_minor": 5
}
