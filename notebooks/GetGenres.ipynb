{
 "cells": [
  {
   "cell_type": "code",
   "execution_count": 1,
   "id": "4afbc05f-09ea-49c7-a815-17e3171bbb18",
   "metadata": {},
   "outputs": [],
   "source": [
    "import requests"
   ]
  },
  {
   "cell_type": "code",
   "execution_count": 2,
   "id": "70de564d-5e36-412b-8b8d-d748a3fbd31d",
   "metadata": {},
   "outputs": [
    {
     "ename": "NameError",
     "evalue": "name 'work_key' is not defined",
     "output_type": "error",
     "traceback": [
      "\u001b[0;31m---------------------------------------------------------------------------\u001b[0m",
      "\u001b[0;31mNameError\u001b[0m                                 Traceback (most recent call last)",
      "Cell \u001b[0;32mIn[2], line 2\u001b[0m\n\u001b[1;32m      1\u001b[0m INFO_URL \u001b[38;5;241m=\u001b[39m \u001b[38;5;124m\"\u001b[39m\u001b[38;5;124mhttps://openlibrary.org/\u001b[39m\u001b[38;5;132;01m{}\u001b[39;00m\u001b[38;5;124m.json\u001b[39m\u001b[38;5;124m\"\u001b[39m\n\u001b[0;32m----> 2\u001b[0m query_url \u001b[38;5;241m=\u001b[39m INFO_URL\u001b[38;5;241m.\u001b[39mformat(\u001b[43mwork_key\u001b[49m)\n",
      "\u001b[0;31mNameError\u001b[0m: name 'work_key' is not defined"
     ]
    }
   ],
   "source": [
    "INFO_URL = \"https://openlibrary.org/{}.json\"\n",
    "query_url = INFO_URL.format(work_key)\n"
   ]
  },
  {
   "cell_type": "code",
   "execution_count": null,
   "id": "1cf3e487-5523-48ef-b2db-78fdac166879",
   "metadata": {},
   "outputs": [],
   "source": []
  }
 ],
 "metadata": {
  "kernelspec": {
   "display_name": "Python 3 (ipykernel)",
   "language": "python",
   "name": "python3"
  },
  "language_info": {
   "codemirror_mode": {
    "name": "ipython",
    "version": 3
   },
   "file_extension": ".py",
   "mimetype": "text/x-python",
   "name": "python",
   "nbconvert_exporter": "python",
   "pygments_lexer": "ipython3",
   "version": "3.11.2"
  }
 },
 "nbformat": 4,
 "nbformat_minor": 5
}
