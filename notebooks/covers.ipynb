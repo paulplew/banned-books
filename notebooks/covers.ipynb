{
 "cells": [
  {
   "cell_type": "code",
   "execution_count": 1,
   "id": "281ad141-ecd7-45f1-aa8c-1300b6199222",
   "metadata": {},
   "outputs": [],
   "source": [
    "import os\n",
    "import csv\n",
    "import requests\n",
    "import urllib.parse\n",
    "import pandas as pd\n",
    "import IPython.display as Disp\n",
    "from PIL import Image, ImageEnhance\n",
    "from colors import color\n",
    "from numpy import interp\n",
    "import logging\n",
    "\n",
    "from io import BytesIO"
   ]
  },
  {
   "cell_type": "markdown",
   "id": "ffb63619-f2f3-4dc8-9d1d-a5bb5f34cb37",
   "metadata": {},
   "source": [
    "# Book Cover Processing"
   ]
  },
  {
   "cell_type": "code",
   "execution_count": 2,
   "id": "b0d805d7-4b08-41ce-a0ad-510078bcf75d",
   "metadata": {},
   "outputs": [],
   "source": [
    "SEARCH_URL = \"https://openlibrary.org/search.json{}\"\n",
    "COVER_URL = \"https://covers.openlibrary.org/b/isbn/{}-L.jpg\"\n",
    "\n",
    "class BookNotFoundException(Exception):\n",
    "    pass\n",
    "\n",
    "class CoverNotFoundException(Exception):\n",
    "    pass\n",
    "\n",
    "class HTTPCodeException(Exception):\n",
    "    pass"
   ]
  },
  {
   "cell_type": "code",
   "execution_count": 3,
   "id": "f9008c94-79b9-4ff0-9846-5491d39c476b",
   "metadata": {},
   "outputs": [],
   "source": [
    "logger = logging.getLogger('my_logger')\n",
    "logger.setLevel(logging.DEBUG)"
   ]
  },
  {
   "cell_type": "code",
   "execution_count": 4,
   "id": "1626680a-b563-4d13-bd59-1c81edbd2152",
   "metadata": {},
   "outputs": [],
   "source": [
    "# load data\n",
    "data_file = os.path.join('../data/banned_books_clean.pickle')\n",
    "data = pd.read_pickle(data_file)"
   ]
  },
  {
   "cell_type": "code",
   "execution_count": 5,
   "id": "1716aad5-1050-479e-ad9c-57f04933f1ba",
   "metadata": {},
   "outputs": [
    {
     "data": {
      "text/html": [
       "<div>\n",
       "<style scoped>\n",
       "    .dataframe tbody tr th:only-of-type {\n",
       "        vertical-align: middle;\n",
       "    }\n",
       "\n",
       "    .dataframe tbody tr th {\n",
       "        vertical-align: top;\n",
       "    }\n",
       "\n",
       "    .dataframe thead th {\n",
       "        text-align: right;\n",
       "    }\n",
       "</style>\n",
       "<table border=\"1\" class=\"dataframe\">\n",
       "  <thead>\n",
       "    <tr style=\"text-align: right;\">\n",
       "      <th></th>\n",
       "      <th>ID</th>\n",
       "      <th>author</th>\n",
       "      <th>title</th>\n",
       "      <th>challenge_type</th>\n",
       "      <th>challenger</th>\n",
       "      <th>decision</th>\n",
       "      <th>library_type</th>\n",
       "      <th>day</th>\n",
       "      <th>month</th>\n",
       "      <th>year</th>\n",
       "      <th>challenge_date</th>\n",
       "      <th>state</th>\n",
       "    </tr>\n",
       "  </thead>\n",
       "  <tbody>\n",
       "  </tbody>\n",
       "</table>\n",
       "</div>"
      ],
      "text/plain": [
       "Empty DataFrame\n",
       "Columns: [ID, author, title, challenge_type, challenger, decision, library_type, day, month, year, challenge_date, state]\n",
       "Index: []"
      ]
     },
     "execution_count": 5,
     "metadata": {},
     "output_type": "execute_result"
    }
   ],
   "source": [
    "data.loc[data[\"title\"].str.contains(\"anus\")]"
   ]
  },
  {
   "cell_type": "code",
   "execution_count": 6,
   "id": "0d063d77-5bd7-4037-8d93-f80fb60c88b1",
   "metadata": {},
   "outputs": [],
   "source": [
    "def get_book_info_and_cover(author, title):\n",
    "    # set up logger       \n",
    "    log_format = f\"%(asctime)s - %(levelname)s - Author: {author} - Book: {title} - Message: %(message)s\"\n",
    "    formatter = logging.Formatter(log_format)\n",
    "    handler = logging.StreamHandler()\n",
    "    handler.setFormatter(formatter)\n",
    "    logger.addHandler(handler)\n",
    "    \n",
    "    # sanatize author and title\n",
    "    safe_author = urllib.parse.quote_plus(author)\n",
    "    safe_title = urllib.parse.quote_plus(title)\n",
    "\n",
    "    # build the query url for the search\n",
    "    query = f\"?author={safe_author}&q={safe_title}\"\n",
    "    query_url = SEARCH_URL.format(query)\n",
    "\n",
    "    # execute request for search url\n",
    "    logger.info(f\"fetching: '{query_url}'\")\n",
    "    response = requests.get(query_url)\n",
    "\n",
    "    # raise if there is a non success code\n",
    "    if response.status_code != 200:\n",
    "        raise HTTPCodeException(f\"url: {query_url} returned {response.status_code}\")\n",
    "        \n",
    "    matching_books = response.json()\n",
    "\n",
    "    # if there are no matches\n",
    "    if matching_books[\"numFound\"] == 0:\n",
    "        raise BookNotFoundException(f\"Could not find and matches for author: '{author}', title: '{title}'\")\n",
    "\n",
    "    first_book = matching_books[\"docs\"][0]\n",
    "    for isbn in first_book[\"isbn\"]: \n",
    "        query_url = COVER_URL.format(isbn)\n",
    "        \n",
    "        logger.info(f\"fetching: '{query_url}'\")\n",
    "        cover = requests.get(query_url)\n",
    "        cover_image = Image.open(BytesIO(cover.content))\n",
    "        \n",
    "        if cover_image.height > 1 and cover_image.width > 1:\n",
    "            break\n",
    "        else:\n",
    "            logger.warning(f\"Cover not located for isbn: '{isbn}'\")\n",
    "    \n",
    "    if cover_image.height == 1 and cover_image.width == 1:\n",
    "        raise CoverNotFoundException(f\"No covers found for any isbn in: {','.join(first_book['isbn'])}\")\n",
    "\n",
    "    logger.info(f\"All info located\")\n",
    "    return {\n",
    "        \"author\": author,\n",
    "        \"title\": title,\n",
    "        \"cover\": Image.open(BytesIO(cover.content))\n",
    "    }"
   ]
  },
  {
   "cell_type": "code",
   "execution_count": 71,
   "id": "cd5099b3-0129-4685-9179-ff97f9f898fc",
   "metadata": {},
   "outputs": [],
   "source": [
    "def render_ascii(img, new_width=80):\n",
    "    chars =  \" .,-~:;!=*#$@\"\n",
    "    \n",
    "    _, _, width, height = img.getbbox()\n",
    "\n",
    "    new_height = int((width / height) * new_width)\n",
    "    \n",
    "    img = img.resize((new_width, int(new_height)))\n",
    "    pixels = img.getdata()\n",
    "\n",
    "    new_pixels = []\n",
    "    for pixel in pixels:\n",
    "        luminance = .2126 * pixel[0] + .7152 * pixel[1] + .0722 * pixel[2]\n",
    "        # clip the pixel from 255 values to the number of possible values in the chars string\n",
    "        new_pixels.append(color(chars[int(interp(luminance, [0, 256], [0, len(chars)]))], pixel)) \n",
    "\n",
    "    colors = pixels_as_hex(pixels)\n",
    "    \n",
    "    new_pixels_count = len(new_pixels)\n",
    "    ascii_picture = [new_pixels[index:index+new_width]\n",
    "                     for index in range(0, new_pixels_count, new_width)]\n",
    "    return ascii_picture, colors"
   ]
  },
  {
   "cell_type": "code",
   "execution_count": 78,
   "id": "dc4e693f-17a1-4ac8-937f-586a7ec0ada6",
   "metadata": {},
   "outputs": [],
   "source": [
    "def pixels_as_hex(pixels):\n",
    "    return [rgb_to_hex(pixel[0], pixel[1], pixel[2]) for pixel in pixels]    "
   ]
  },
  {
   "cell_type": "code",
   "execution_count": 79,
   "id": "ba64c76f-1730-4b75-8e10-df72d51bbfc6",
   "metadata": {},
   "outputs": [],
   "source": [
    "def rgb_to_hex(r, g, b):\n",
    "    def _base_sixteen(num, numerals=\"0123456789ABCDEF\"):\n",
    "        if num < len(numerals):\n",
    "            return numerals[num]\n",
    "        else:\n",
    "            return numerals[num // 16] + _base_sixteen(num % 16)\n",
    "\n",
    "    r = _base_sixteen(r)\n",
    "    g = _base_sixteen(g)\n",
    "    b = _base_sixteen(b)\n",
    "    return f\"#{r:02}{g:02}{b:02}\""
   ]
  },
  {
   "cell_type": "code",
   "execution_count": 75,
   "id": "0c7c8cb9-39fd-44ed-8fa1-6af1101778a9",
   "metadata": {},
   "outputs": [],
   "source": [
    "# Get the top 10 banned books in US public libraries\n",
    "top_banned_books = data \\\n",
    "    .loc[data[\"library_type\"] == \"Public\"] \\\n",
    "    .groupby('title')['ID'] \\\n",
    "    .nunique() \\\n",
    "    .sort_values(ascending=False) \\\n",
    "    .iloc[0:10]\n",
    "\n",
    "# display(top_banned_books)\n",
    "searches = []\n",
    "for name, _ in top_banned_books.items():\n",
    "    book = data.loc[data['title'] == name].iloc[0]\n",
    "    searches.append((book.author, book.title))"
   ]
  },
  {
   "cell_type": "code",
   "execution_count": 76,
   "id": "63b794d0-9285-4e7f-b5a2-c0eaabe6f2e5",
   "metadata": {},
   "outputs": [
    {
     "name": "stderr",
     "output_type": "stream",
     "text": [
      "2023-11-01 09:05:07,488 - INFO - Author: Kobabe, Maia - Book: Gender Queer: A Memoir - Message: fetching: 'https://openlibrary.org/search.json?author=Kobabe%2C+Maia&q=Gender+Queer%3A+A+Memoir'\n",
      "2023-11-01 09:05:07,488 - INFO - Author: Kobabe, Maia - Book: Gender Queer: A Memoir - Message: fetching: 'https://openlibrary.org/search.json?author=Kobabe%2C+Maia&q=Gender+Queer%3A+A+Memoir'\n",
      "2023-11-01 09:05:07,940 - INFO - Author: Kobabe, Maia - Book: Gender Queer: A Memoir - Message: fetching: 'https://covers.openlibrary.org/b/isbn/1549307517-L.jpg'\n",
      "2023-11-01 09:05:07,940 - INFO - Author: Kobabe, Maia - Book: Gender Queer: A Memoir - Message: fetching: 'https://covers.openlibrary.org/b/isbn/1549307517-L.jpg'\n",
      "2023-11-01 09:05:08,207 - WARNING - Author: Kobabe, Maia - Book: Gender Queer: A Memoir - Message: Cover not located for isbn: '1549307517'\n",
      "2023-11-01 09:05:08,207 - WARNING - Author: Kobabe, Maia - Book: Gender Queer: A Memoir - Message: Cover not located for isbn: '1549307517'\n",
      "2023-11-01 09:05:08,209 - INFO - Author: Kobabe, Maia - Book: Gender Queer: A Memoir - Message: fetching: 'https://covers.openlibrary.org/b/isbn/9781637150726-L.jpg'\n",
      "2023-11-01 09:05:08,209 - INFO - Author: Kobabe, Maia - Book: Gender Queer: A Memoir - Message: fetching: 'https://covers.openlibrary.org/b/isbn/9781637150726-L.jpg'\n",
      "2023-11-01 09:05:08,467 - WARNING - Author: Kobabe, Maia - Book: Gender Queer: A Memoir - Message: Cover not located for isbn: '9781637150726'\n",
      "2023-11-01 09:05:08,467 - WARNING - Author: Kobabe, Maia - Book: Gender Queer: A Memoir - Message: Cover not located for isbn: '9781637150726'\n",
      "2023-11-01 09:05:08,468 - INFO - Author: Kobabe, Maia - Book: Gender Queer: A Memoir - Message: fetching: 'https://covers.openlibrary.org/b/isbn/8467940476-L.jpg'\n",
      "2023-11-01 09:05:08,468 - INFO - Author: Kobabe, Maia - Book: Gender Queer: A Memoir - Message: fetching: 'https://covers.openlibrary.org/b/isbn/8467940476-L.jpg'\n",
      "2023-11-01 09:05:09,430 - INFO - Author: Kobabe, Maia - Book: Gender Queer: A Memoir - Message: All info located\n",
      "2023-11-01 09:05:09,430 - INFO - Author: Kobabe, Maia - Book: Gender Queer: A Memoir - Message: All info located\n"
     ]
    }
   ],
   "source": [
    "# rip top 10 covers\n",
    "all_info = []\n",
    "for author, title in searches[0:1]:\n",
    "    try:\n",
    "        book_info = get_book_info_and_cover(author, title)\n",
    "        all_info.append(book_info)\n",
    "    except Exception as e:\n",
    "        logger.exception(str(e))"
   ]
  },
  {
   "cell_type": "code",
   "execution_count": 82,
   "id": "6b9dd68a-083f-4172-b0ef-d5c4348e9849",
   "metadata": {},
   "outputs": [
    {
     "name": "stdout",
     "output_type": "stream",
     "text": [
      "['#CF9C40', '#CF9C40', '#CF9C40', '#CF9C40', '#CF9C40', '#CF9C40', '#CF9C40', '#D09D41', '#D09D41', '#CF9C41', '#CF9C41', '#CF9C40', '#CF9C40', '#CF9C40', '#CF9C40', '#CF9C40', '#CF9C40', '#CF9C40', '#CF9C40', '#CF9C40', '#CF9C40', '#CF9C40', '#CF9C40', '#CF9C40', '#CF9C40', '#CF9C40', '#CF9C40', '#CF9C40', '#CF9C40', '#CF9C40', '#CF9C40', '#CF9C40', '#CF9C40', '#CF9C40', '#CF9C40', '#CF9C40', '#CF9C40', '#CF9C40', '#CF9C40', '#CF9C40', '#CF9C40', '#CF9C40', '#CF9C40', '#CF9C40', '#CF9C40', '#CF9C40', '#CF9C40', '#CF9C40', '#CF9C40', '#CF9C40', '#CF9C40', '#CF9C40', '#CF9C40', '#CF9C40', '#CF9C40', '#CF9C40', '#CF9C40', '#CF9C40', '#CF9C40', '#CF9C40', '#CF9C40', '#CF9C40', '#CF9C40', '#CF9C40', '#CF9C40', '#CF9C41', '#D09C41', '#D09D41', '#D29D40', '#D29D40', '#D29D40', '#D19C40', '#D19C3F', '#D19C3F', '#D19C3E', '#D09C40', '#CF9C40', '#CF9C40', '#CF9C40', '#CF9C40', '#D09D40', '#D09D40', '#D09D40', '#CF9D40', '#CE9D40', '#CE9C40', '#CC9B40', '#CA983F', '#CB983E', '#CF9C41', '#D09C40', '#D09C3F', '#D09C40', '#D09C41', '#D09C40', '#D09C40', '#D09C40', '#D09C40', '#D09C40', '#CF9C40', '#CF9C40', '#CF9C40', '#D09C40', '#D09C40', '#D09C40', '#D09C40', '#CF9C40', '#CF9C40', '#CF9C40', '#D09C40', '#D09C40', '#D09C40', '#D09C40', '#D09C40', '#D09C40', '#D09C40', '#CF9C3F', '#D09C3F', '#D09C3F', '#D09C40', '#D09C40', '#D09C40', '#D09C40', '#CF9C40', '#CF9C40', '#CF9D40', '#CF9D40', '#D09D40', '#D09D40', '#CF9C40', '#CF9C40', '#CF9C40', '#CF9C40', '#CF9C40', '#CF9C40', '#CF9C40', '#CF9C40', '#CF9C40', '#D09C40', '#D09C40', '#D09C40', '#D09D40', '#D09D41', '#D09C40', '#CE9B41', '#CC9A41', '#CC9940', '#CA983F', '#C89740', '#C6963F', '#C6963E', '#C4943E', '#C3923E', '#C4943B', '#CB9C3F', '#CF9D40', '#D09D40', '#D09D40', '#D09D40', '#D09D40', '#C6943E', '#C89640', '#C99640', '#C6953F', '#C39540', '#C0923F', '#BE903E', '#BF8F3C', '#CB993F', '#D19C3F', '#D29B3E', '#D19D3D', '#D09C3F', '#D09B41', '#CD9B40', '#CD9C41', '#CE9C41', '#CD9C40', '#CD9C40', '#CE9C41', '#CF9D42', '#CE9D42', '#CD9C40', '#CC9A3F', '#CC9A3F', '#CC9B40', '#CE9D41', '#CE9D41', '#CE9C41', '#CE9C41', '#CD9B40', '#CD9B40', '#CC9B40', '#CB9940', '#C7953F', '#C6933F', '#CE9C41', '#CB9A3F', '#CC9A3F', '#CB9A3E', '#CC9B3F', '#CD9B3E', '#CE9B3F', '#CE9A40', '#CF9B41', '#CE9C41', '#CB983E', '#CA973D', '#CA973E', '#CD9A40', '#CF9C41', '#CF9C40', '#CF9C40', '#CF9C40', '#CF9C40', '#CF9C40', '#D09C40', '#CF9D41', '#CD9C41', '#CD9B40', '#CD9B40', '#CA983E', '#C89640', '#C5923F', '#C2913F', '#C0913F', '#BF903E', '#BF903D', '#BE8F3E', '#BE8F3E', '#BE8F3E', '#BE903D', '#BE903C', '#C0923E', '#C39440', '#C5943E', '#C7953F', '#C89640', '#C89640', '#C7943F', '#BE903E', '#BE903E', '#BE8F3E', '#BE8F3F', '#C19042', '#C3923F', '#C6973F', '#CA9C40', '#CD9D3E', '#CE9C3E', '#CC9940', '#C69640', '#C2933E', '#C1913E', '#BF903E', '#C0923F', '#C0923F', '#C0913F', '#BF913E', '#C09240', '#C29441', '#C19240', '#C0913F', '#BF903E', '#BF903E', '#BF903E', '#C19340', '#C19340', '#C0923F', '#C0923F', '#BF913E', '#BF903E', '#BF913E', '#BF903E', '#BE8F3F', '#BF9041', '#C19240', '#BE9140', '#BF9040', '#C1913D', '#C09140', '#AE8741', '#A48140', '#A17E41', '#A68243', '#B68D44', '#C99944', '#D09C40', '#CF9B3E', '#D09D40', '#CF9C40', '#CF9C40', '#CF9C40', '#CF9C3F', '#CF9C3F', '#CF9D41', '#CD9A41', '#C49440', '#BF9140', '#BE903F', '#BE913E', '#BE903C', '#BD903D', '#BE903F', '#BE903F', '#BE903E', '#BE903E', '#BE903E', '#BE903E', '#BE903F', '#BE903F', '#BF903F', '#BF903F', '#BF903F', '#BF903F', '#BF8F3F', '#BF8F3E', '#BF8F3E', '#BF8F3E', '#BE903F', '#BF903E', '#BF903E', '#C09240', '#C69641', '#CA9941', '#C89740', '#C6953F', '#C2933E', '#C0923D', '#BF923D', '#BF903C', '#C2913D', '#C4933E', '#C4933F', '#BF903D', '#BE8F3E', '#BE8F3E', '#BF903E', '#BF903E', '#BE8F3E', '#BE8F3E', '#BF903E', '#BF903E', '#BF903E', '#BF903E', '#BF903E', '#BF903E', '#BF903E', '#BF903E', '#BF903E', '#BF903E', '#BE8F3E', '#BE8F3E', '#BF903E', '#BF903E', '#BF903E', '#BE8F40', '#BE903E', '#C0923D', '#B68D40', '#846A3D', '#68543B', '#6C593C', '#70593F', '#70583F', '#705B3D', '#79663F', '#B18948', '#D19F41', '#D19B40', '#CF9C3F', '#CF9C40', '#CF9C40', '#CE9C40', '#CA993E', '#C7953F', '#C69340', '#C49340', '#C5943F', '#C69540', '#C4933E', '#C4943F', '#C69540', '#C69540', '#C6953F', '#C6953E', '#C6963E', '#C8973F', '#C99A3F', '#C4943D', '#C2903F', '#C19040', '#BE903E', '#BF903F', '#BF903E', '#BF903E', '#BF903E', '#BF903E', '#BF903E', '#BF903E', '#BF903E', '#BF903E', '#C0913F', '#C0913E', '#BF913E', '#BF903F', '#BE8F3F', '#BC8F3E', '#BD903C', '#C2933C', '#CA9A40', '#CF9C41', '#D09D42', '#CC993E', '#C3923B', '#C3933F', '#C3933F', '#C0913C', '#C1923D', '#C1923D', '#C1923D', '#BF903D', '#BE903D', '#BE913D', '#BE903D', '#BE903E', '#BE903E', '#BE903F', '#BE903D', '#BF913C', '#BF923D', '#C2943F', '#C39540', '#C0923D', '#BE913C', '#C0913D', '#C59440', '#CA973F', '#D1A042', '#8D7841', '#6A5439', '#9A8668', '#7C6C51', '#685840', '#6E5B44', '#71583D', '#72573C', '#695A40', '#C19848', '#D19D43', '#CF9C40', '#CF9C40', '#CF9C40', '#CF9C40', '#CE9B41', '#CE9C41', '#CE9C41', '#CF9C41', '#D09C40', '#D09C41', '#D09C41', '#D09C41', '#D09C41', '#D09C41', '#D09C40', '#D09D3F', '#D09D3F', '#D09D3F', '#D09D40', '#CF9C40', '#CF9B40', '#CD9B3F', '#CA9A3F', '#C7963F', '#C2913E', '#C0913F', '#BF913F', '#BF903E', '#BE903E', '#BE903D', '#BE903E', '#BF903E', '#BF903E', '#BF903E', '#BF903E', '#BF903E', '#BF903E', '#C2943E', '#C99941', '#CF9C41', '#D19C41', '#CF9C41', '#CF9C41', '#CF9C41', '#CF9C40', '#D09D40', '#D09C40', '#CF9B3F', '#D09C40', '#CF9C3F', '#D09C3F', '#CB983F', '#C5933F', '#C4923D', '#C4923D', '#C5933C', '#C6933B', '#C7943D', '#CB9940', '#CC9B3E', '#CD9C3F', '#CE9E40', '#CE9E41', '#CC9B3E', '#CB9A3D', '#CE9B3E', '#D19D3C', '#D39C41', '#D4A044', '#8F7C50', '#8B7A5F', '#DCBB92', '#B39E7D', '#8F8068', '#7C7361', '#7E6E56', '#6B5D48', '#6F664B', '#CA9E42', '#D19D3E', '#CF9C41', '#CF9C40', '#CF9C40', '#CF9C40', '#CF9C40', '#CF9C40', '#CF9C40', '#CF9C40', '#CF9C40', '#CF9C40', '#CF9C40', '#CF9C40', '#CF9C40', '#CF9C40', '#CF9C40', '#CF9C40', '#CF9C40', '#CF9C40', '#CF9C40', '#CF9C40', '#CF9C40', '#CF9C3F', '#CF9D3E', '#CD9A3F', '#CC9940', '#CC9B41', '#CC9B41', '#CB9A3F', '#C9983E', '#C9983F', '#C49543', '#C1923F', '#C0913E', '#C1913F', '#C49240', '#C7953F', '#CB993F', '#CF9D40', '#D09D40', '#D09C40', '#D09C40', '#CF9C40', '#CF9C40', '#CF9C40', '#D09C40', '#D09C40', '#D09C40', '#D09C40', '#D09C40', '#D09C40', '#D09C40', '#D09C40', '#D19C40', '#D19B3C', '#D09E47', '#D3A555', '#D7B26C', '#D8B265', '#CE9C3F', '#D09C40', '#D09C40', '#CF9C40', '#CE9C41', '#CE9D3F', '#D19D40', '#D79F3D', '#D5A03E', '#D09B3F', '#C29647', '#9F8750', '#AA9476', '#E3BD92', '#B99E7F', '#DAB58E', '#C0A480', '#C1AA88', '#918569', '#BC974D', '#D5A13F', '#D29C3E', '#CF9C40', '#CF9C40', '#CF9C40', '#CF9C40', '#CF9C40', '#CF9C40', '#CF9C40', '#CF9C40', '#CF9C40', '#CF9C40', '#CF9C40', '#CF9C40', '#CF9C40', '#CF9C40', '#CF9C40', '#CF9C40', '#CF9C40', '#CF9C40', '#CF9C40', '#CF9C40', '#CF9C40', '#CF9C40', '#CF9C40', '#CF9D40', '#CF9D3F', '#D09C40', '#D09C40', '#D09C40', '#D09C40', '#D09C40', '#CE9D41', '#CE9C41', '#CC9B40', '#CD9C40', '#CF9C3F', '#D09D3F', '#CF9D3E', '#CF9C40', '#CF9C40', '#CF9C40', '#CF9C40', '#CF9C40', '#CF9B3E', '#CE993A', '#CD9839', '#CD9839', '#CD983A', '#CD9839', '#CD9839', '#CE9B3D', '#CF9C40', '#CF9C41', '#CF9B3D', '#CB9431', '#D7B368', '#E9DABA', '#E5D3A9', '#DAC07D', '#C99938', '#CE9C3E', '#CF9C40', '#CF9C40', '#CC983B', '#CE9934', '#C4963C', '#95814D', '#717158', '#56675E', '#3F5C5F', '#31545D', '#62706A', '#BFAA84', '#CAAA85', '#B79E82', '#BCA483', '#757B6C', '#3C5A5C', '#626B52', '#9A8545', '#CA973A', '#D09D3E', '#CF9C40', '#CF9C40', '#CD983A', '#CD983A', '#CD9939', '#CD983A', '#CD983A', '#CC9838', '#CE9A3C', '#CF9C40', '#CF9C40', '#CF9C40', '#CE9A3C', '#CD9839', '#CD9839', '#CC9839', '#CC9739', '#CC9838', '#CE993B', '#CF9C3F', '#CF9C40', '#CF9C40', '#CF9C40', '#CF9C40', '#CF9C40', '#CF9C40', '#CF9C40', '#CF9C40', '#CF9C40', '#CF9C40', '#CF9C40', '#CF9C40', '#CF9C40', '#CF9C40', '#CF9C40', '#CF9C40', '#CF9C40', '#CF9C40', '#CF9C40', '#CF9C40', '#CF9837', '#CFA04B', '#DAB675', '#E5CEA0', '#EBDAB8', '#EBDCBC', '#E7D6AC', '#DFC38B', '#D3A758', '#CF9C3E', '#CD9B3A', '#D7B064', '#E9DBB5', '#EADBB7', '#ECDEBE', '#E9DBB8', '#EBDBB8', '#ECDEBB', '#D0A85B', '#CD9A3A', '#CD9C44', '#E6D1A3', '#EFDBB7', '#BABBA6', '#395B69', '#315769', '#385A68', '#9AACB2', '#B7C5C9', '#96AAB0', '#415F63', '#496263', '#8D9797', '#BAC3C4', '#AFBCC5', '#B9C7CD', '#B5C5CC', '#B3C4CA', '#D7CDB6', '#CFA04F', '#D09B3A', '#D0A24D', '#E7D6AF', '#E9D9B5', '#EBDCB8', '#ECDDBD', '#EAD9B9', '#E2CC9D', '#D5AB63', '#CF9A3B', '#D09C3C', '#CE983B', '#D3AB5A', '#DEC58E', '#EAD6B1', '#EBDEBE', '#EADDBD', '#E3CE9D', '#D6B36D', '#CD9C42', '#CD9B3E', '#CF9C40', '#CF9C40', '#CF9C40', '#CF9C40', '#CF9C40', '#CF9C40', '#CF9C40', '#CF9C40', '#CF9C40', '#CF9C40', '#CF9C40', '#CF9C40', '#CF9C40', '#CF9C40', '#CF9C40', '#CF9C40', '#CF9C3F', '#CF9C40', '#CD993B', '#DDBF83', '#F6F1E3', '#FCFDF9', '#F2E8D3', '#E9D6B2', '#E6D1A7', '#EBD8B6', '#F3EBD8', '#EFE4C4', '#CC9B40', '#CC9836', '#D8BA7E', '#FFFFFF', '#FBFCF6', '#E6D3AE', '#E7D1A7', '#E7D2A7', '#E6D2A5', '#D3A458', '#CE9A3A', '#CA9D49', '#F7F4E2', '#FFFFFF', '#FFFFFF', '#CDD6D7', '#5A747C', '#2E515B', '#D6E0E0', '#FFFFFF', '#D6DDDD', '#365862', '#2F5562', '#8DA2AB', '#FFFFFF', '#F0F4F4', '#A9B6BB', '#AAB8BC', '#A9B7BC', '#99B0B5', '#78795A', '#D49C3C', '#CFA657', '#FCFEF8', '#FEFFFF', '#E9DCBB', '#E0C590', '#EDE4C9', '#FFFFFF', '#FAF8F0', '#D1A95E', '#CB983F', '#E6D1A6', '#FBFBF5', '#FBFBF6', '#EEE2CA', '#E8D6B2', '#EBDCBB', '#F8F5EB', '#FDFFFF', '#EDE2C5', '#CFA555', '#CE9A3D', '#CF9C40', '#CF9C40', '#CF9C40', '#CF9C40', '#CF9C40', '#CF9C40', '#CF9C40', '#CF9C40', '#CF9C40', '#CF9C40', '#CF9C40', '#CF9C40', '#CF9C40', '#CF9C40', '#D09C3F', '#CF9D40', '#CE9938', '#D5AF6B', '#FBFEFA', '#FCFDF9', '#D6B67B', '#CC9736', '#CF9C41', '#D2A655', '#D1A355', '#D0A658', '#D5B269', '#CF9D46', '#CD9836', '#DAB97B', '#FEFFFE', '#FBF9F3', '#E6D3AF', '#E7D1A6', '#E7D2A7', '#E7D2A6', '#D4A553', '#D0983E', '#CA9D4A', '#F6F2DC', '#FEFFFF', '#F0F2F3', '#FFFFFF', '#F4F4F5', '#879C9D', '#D5DBDD', '#FFFFFF', '#CFD9DA', '#365964', '#345664', '#90A0A9', '#FFFFFF', '#EAEEED', '#A0B0B3', '#A1B0B6', '#A0B0B7', '#9CAEB4', '#435F6B', '#97834A', '#D8AA54', '#FBFAF3', '#FDFDFD', '#EAE1C4', '#E2CC9D', '#EDE2CE', '#FDFDFB', '#F1E7D1', '#CA9F48', '#D9C087', '#FFFFFF', '#F7F6E9', '#CEAA61', '#CC983C', '#CE9839', '#CE9738', '#CD9E4A', '#EEE3C8', '#FFFFFF', '#EADBB5', '#CB983C', '#D09C3E', '#CF9C40', '#D09C40', '#CF9C40', '#CF9C40', '#CF9C40', '#CF9C40', '#CF9C40', '#CF9C40', '#CF9C40', '#CF9C40', '#CF9C40', '#CF9C40', '#CF9C40', '#D09C3F', '#CF9D3F', '#CD9838', '#D6B36C', '#FEFFFE', '#FDFDF7', '#D6B273', '#CB9230', '#D3B062', '#E9DAB6', '#EDE4CB', '#FBFAF4', '#EFE4C9', '#CB9C3F', '#CD9835', '#DAB97A', '#FFFFFE', '#FAF8F1', '#E5D1AD', '#E5CFA3', '#E5D0A4', '#E4D0A0', '#D0A651', '#D19A3C', '#BB9549', '#EAEAE2', '#FFFFFF', '#8DA4AA', '#7D969A', '#F7F8F8', '#FFFFFF', '#FCFCFB', '#FFFFFF', '#D0D9DA', '#365963', '#345664', '#8EA1A9', '#FFFFFF', '#EBEEEE', '#A5B3B8', '#A7B4BA', '#A7B6B9', '#A1B1B6', '#436474', '#3F5956', '#B99C61', '#FDFCF1', '#FDFDFE', '#EADDC4', '#EAE0C2', '#FDFFFF', '#F9F8F0', '#D4AE68', '#C8902D', '#DCC388', '#FFFFFF', '#F8F3E8', '#CFA55B', '#CD9836', '#CD9838', '#CD9836', '#CC9942', '#EDDFC1', '#FFFFFF', '#EBDCB7', '#CB983B', '#D09D3F', '#CF9C40', '#D09C40', '#CF9C40', '#CF9C40', '#CF9C40', '#CF9C40', '#CF9C40', '#CF9C40', '#CF9C40', '#CF9C40', '#CF9C40', '#CF9C40', '#CF9C40', '#CF9C40', '#CF9C40', '#CF9C3F', '#CB9A3F', '#DEC894', '#F9F5EC', '#F9FCF6', '#EEE2CA', '#E5D3A8', '#E3CBA3', '#EDE5CD', '#FFFFFF', '#F1EBD2', '#CA9B3E', '#CC9936', '#D9BA7B', '#FFFFFF', '#FCFCFA', '#E9D8BB', '#EAD6B1', '#EBD8B2', '#EAD7AD', '#D1A556', '#CC9B3A', '#C49B4B', '#F2F0E6', '#FFFFFF', '#A3AEAE', '#485959', '#5F767B', '#CFD7D9', '#FFFFFF', '#FFFFFF', '#D7DCDE', '#375962', '#335661', '#92A4AC', '#FFFFFF', '#F2F5F3', '#ACBABD', '#A7BAC0', '#A8BABD', '#A1B2B9', '#496770', '#476161', '#9D9066', '#FFFFFC', '#FFFFFF', '#D2B777', '#CA9336', '#DEC48F', '#FBFBF4', '#FAF9EE', '#DAB978', '#C99B3E', '#E8D3AC', '#FAFBF3', '#F9F7F1', '#EDDFC3', '#E9D4AD', '#EBDAB7', '#F4F1E3', '#FAFEFA', '#EEE3C8', '#CFA659', '#CE9A3D', '#CF9C40', '#CF9C40', '#CF9C40', '#CF9C40', '#CF9C40', '#CF9C40', '#CF9C40', '#CF9C40', '#CF9C40', '#CF9C40', '#CF9C40', '#CF9C40', '#CF9C40', '#CF9C40', '#CF9C40', '#CF9C40', '#CF9C40', '#CF9C40', '#CC983B', '#D0A450', '#DBBD81', '#E5D1A2', '#E9D9B5', '#E9D9B6', '#E6D1A6', '#DEC084', '#D5AB5E', '#CF9B3F', '#CF9C3A', '#D3A759', '#E1C48D', '#E1C390', '#E2C692', '#E0C791', '#E1C793', '#E3C893', '#D0A44F', '#D49B3C', '#B28F44', '#DBC7B0', '#F1D8BC', '#EAC8A1', '#C4A77F', '#616756', '#3D5E6E', '#7F969C', '#899FA5', '#768E95', '#365B65', '#365865', '#5E7A85', '#8DA2A8', '#8EA3A7', '#92A6AD', '#B4B5A2', '#D8C8AF', '#F0D7BD', '#CFAF8B', '#D6B186', '#B69557', '#E1C68B', '#E0C695', '#CFA757', '#CE983A', '#CA9836', '#D6B069', '#E2CA9A', '#DFC68C', '#CF9F47', '#CC9734', '#D4A756', '#DEC184', '#E7D4AA', '#EBDAB3', '#EAD7B1', '#E1C794', '#D4AF67', '#CC9A41', '#CF9A3B', '#CF9C40', '#CF9C40', '#CF9C40', '#CF9C40', '#CF9C40', '#CF9C40', '#CF9C40', '#CF9C40', '#CF9C40', '#CF9C40', '#CF9C40', '#CF9C40', '#CF9C40', '#CF9C40', '#CF9C40', '#CF9C40', '#CF9C40', '#CF9C40', '#CF9C40', '#D19C3C', '#CF9735', '#CC9435', '#CB993A', '#CCA045', '#CDA14A', '#CF9E48', '#CC993B', '#CC9636', '#CF9B3C', '#CE9E41', '#D09B40', '#D09638', '#CC993D', '#CFA04B', '#CFA04C', '#CD9F44', '#CD973A', '#CF9C3E', '#CF9D40', '#AA945D', '#DFBC93', '#DCBA8B', '#E5BC91', '#B09360', '#747352', '#355768', '#43626F', '#446470', '#476571', '#4D6B76', '#4D6B76', '#486873', '#43646F', '#456571', '#315564', '#817546', '#B69252', '#E6BD90', '#E0BB90', '#E7C49B', '#BC9D69', '#CE9F4A', '#D0A04B', '#D2A350', '#D2A553', '#D1A34C', '#D0993D', '#CE9836', '#CD9938', '#D0A045', '#D2A44F', '#D1A24D', '#D0A147', '#CFA14A', '#CFA149', '#CB9D40', '#CB9436', '#CD9638', '#CF9D3C', '#CF9D40', '#CF9C40', '#CF9C40', '#CF9C40', '#CF9C40', '#CF9C40', '#CF9C40', '#CF9C40', '#CF9C40', '#CF9C40', '#CF9C40', '#CF9C40', '#CF9C40', '#CF9C40', '#CF9C40', '#CF9C40', '#CF9C40', '#CF9C40', '#CF9C40', '#CF9B3B', '#CD9B40', '#DBBA7C', '#EBDDBC', '#F6F2E3', '#FBFAF1', '#FCFBF4', '#FCFAF4', '#F5EFDE', '#E5D1A9', '#D2AB5C', '#CD993B', '#CF9C40', '#CE9A3A', '#CFAD63', '#F9F7EA', '#FAF8F1', '#F0E5C8', '#CB9A43', '#D09C3F', '#C8983B', '#E5D5B4', '#FAFAF7', '#F8F8F2', '#CCBA9B', '#B78F46', '#5C6759', '#365A66', '#CCD8D8', '#F2F4F4', '#F1F4F3', '#F7F8F7', '#F6F9F6', '#F6F9F6', '#F6F8F8', '#F7FAFA', '#6A838A', '#75704C', '#BE9442', '#DAC7AC', '#F8F8F4', '#FAF9F3', '#F9F7F3', '#FBF9F4', '#FDFBF4', '#FDFBF5', '#FDFCF7', '#F0E7CE', '#CD993F', '#D29C3D', '#CC9837', '#E0C791', '#FBF8F0', '#FAF6ED', '#FBF8EF', '#FCF9F1', '#FCFBF2', '#F7F5E5', '#ECE2C6', '#D8B872', '#CF9A3F', '#D09C41', '#CF9C40', '#CF9C40', '#CF9C40', '#CF9C40', '#CF9C40', '#CF9C40', '#CF9C40', '#CF9C40', '#CF9C40', '#CF9C40', '#CF9C40', '#CF9C40', '#CF9C40', '#CF9C40', '#CF9C40', '#D09C40', '#CF9D3E', '#CF9C3F', '#CC9E49', '#EADFBD', '#FFFFFF', '#FCFDF9', '#ECD9B9', '#DFC18A', '#DDBE80', '#E1CB98', '#F2EBD7', '#FFFFFF', '#FAF9F2', '#DABF80', '#CE993B', '#CD9B39', '#D2AD66', '#FEFFF9', '#FFFFFF', '#F4ECD5', '#CA9B42', '#CF9D3E', '#C89838', '#EBDCBA', '#FFFFFF', '#FFFFFE', '#DBC6A5', '#8E7F54', '#395A60', '#3A5A69', '#DAE2E2', '#FFFFFF', '#F1F6F6', '#7D9697', '#759096', '#799195', '#7A9096', '#769097', '#4B6A77', '#59655B', '#B5924B', '#E0CCB0', '#FFFFFF', '#FFFFFF', '#E7DBB9', '#D8B876', '#DBBC7C', '#DBBC7C', '#DBBC7D', '#D8B66D', '#CE9B3F', '#D19D3F', '#CA9739', '#E0CB9C', '#FFFFFF', '#FDFDF9', '#D8BC83', '#D6B06A', '#D8BC7E', '#F7F4ED', '#FFFFFF', '#FBFBF0', '#CCA555', '#CD9B3D', '#CF9C40', '#CF9C40', '#CF9C40', '#CF9C40', '#CF9C40', '#CF9C40', '#CF9C40', '#CF9C40', '#CF9C40', '#CF9C40', '#CF9C40', '#CF9C40', '#CF9C40', '#CF9C40', '#CF9C40', '#D09C40', '#D09C40', '#CB9838', '#DDC28D', '#FFFFFF', '#FFFEFB', '#D8B97E', '#CD9434', '#CF9837', '#CC9834', '#C99630', '#CB9A43', '#EBDCC1', '#FFFFFF', '#F6F4E6', '#CB9F48', '#CF9839', '#D2AD65', '#FEFEF7', '#FFFFFF', '#F3EBD4', '#C89C40', '#D19C3E', '#C89837', '#E9DCB7', '#FFFFFF', '#FFFFFE', '#E4CEAD', '#505E56', '#1D4250', '#2C4B5A', '#D7DCE1', '#FFFFFF', '#F6F7F6', '#BDC9C8', '#BAC8C9', '#BBC8CA', '#BAC9CA', '#BDCACC', '#4D6977', '#32494B', '#AA915A', '#EBD2B5', '#FDFFFE', '#FEFEFD', '#F2ECD9', '#EADBB9', '#ECDDBA', '#ECDDBA', '#ECDEBD', '#E5D09F', '#CC9B41', '#CE9E3E', '#CC9735', '#E0CA9B', '#FFFFFF', '#FBFCF7', '#E5D0A5', '#E1C896', '#E0CDA3', '#F8F5ED', '#FDFEFC', '#ECDDBC', '#CC9C46', '#CF9C3F', '#CF9C40', '#CF9C40', '#CF9C40', '#CF9C40', '#CF9C40', '#CF9C40', '#CF9C40', '#CF9C40', '#CF9C40', '#CF9C40', '#CF9C40', '#CF9C40', '#CF9C40', '#CF9C40', '#CF9C40', '#CE9D41', '#CD9D41', '#CB9837', '#DCC087', '#FFFFFF', '#FEFEFB', '#DBBB85', '#C99636', '#CD9432', '#D0A456', '#ECE0C0', '#ECE0C3', '#EBDEC4', '#FFFFFF', '#F5EDDA', '#CC9D47', '#CD9A3A', '#D0AE66', '#FFFFFA', '#FFFFFF', '#F4EDD9', '#C79B43', '#CE9539', '#C7953A', '#EEE2C5', '#FFFFFF', '#FFFFFD', '#E5CCAC', '#3E5053', '#1A3F4F', '#1B3C4D', '#D3DBDD', '#FFFFFF', '#F3F5F6', '#ADB7BA', '#A3B2B6', '#A4B3B7', '#A3B3B7', '#A5B3B8', '#42616D', '#1B3D45', '#A08E68', '#EFD7B8', '#FDFFFD', '#FEFEFD', '#F0EAD5', '#E7D6AD', '#EBD8B3', '#EAD8B3', '#EBD9B5', '#E4CB97', '#CB9B40', '#CF9E3C', '#CC9736', '#E1C99B', '#FEFFFF', '#FAFCF9', '#EFE8D1', '#EEE2C8', '#F7F8EE', '#FFFFFF', '#F9F6EA', '#D0A75D', '#CD9734', '#D09D3E', '#CF9C40', '#CF9C40', '#CF9C40', '#CF9C40', '#CF9C40', '#CF9C40', '#CF9C40', '#CF9C40', '#CF9C40', '#CF9C40', '#CF9C40', '#CF9C40', '#CF9C40', '#CF9C40', '#CF9C40', '#CE9C40', '#CE9D3F', '#CF9B3F', '#CD9C45', '#E8D8B1', '#FEFDFC', '#FEFEFC', '#ECE1C4', '#E4CB9E', '#E3CEA5', '#FBFAF5', '#FFFFFF', '#FFFFFF', '#F8FAF1', '#D4B16E', '#CB9A39', '#CF9B3C', '#CD9F49', '#F1E8D3', '#FDFFFF', '#FCFFFF', '#EDE1C6', '#E4CDA3', '#EADCBD', '#FEFEF8', '#FFFFFF', '#F5EDDE', '#E6C29A', '#435654', '#11384D', '#1B3E4F', '#D7DFE0', '#FFFFFF', '#F3F6F7', '#808F95', '#758C94', '#788F96', '#748D92', '#778C94', '#335263', '#113645', '#A49176', '#F3D9B5', '#FFFFFF', '#FFFFFF', '#EAE1C4', '#DBC186', '#E0C38D', '#E0C28D', '#E0C38F', '#DBBB79', '#CB9C42', '#CF9E3E', '#CB9735', '#E1CB9C', '#FFFFFF', '#FCFEFA', '#CEA659', '#CB9534', '#D2A656', '#EEE2C9', '#FFFFFF', '#F6F2E1', '#D7B36F', '#CB9A39', '#CF9D3E', '#CF9C40', '#CF9C40', '#CF9C40', '#CF9C40', '#CF9C40', '#CF9C40', '#CF9C40', '#CF9C40', '#CF9C40', '#CF9C40', '#CF9C40', '#CF9C40', '#CF9C40', '#CF9C40', '#CF9C40', '#CF9C40', '#CF9C40', '#CE9B3E', '#CF983A', '#D5B065', '#E4CD9E', '#EFE4CD', '#F6EEDF', '#F5EFDE', '#F1E6D0', '#E5D0A9', '#EBDDBD', '#F3ECD7', '#E0C792', '#CB9D3F', '#D09B3E', '#CD9B39', '#CEA24C', '#E0C492', '#ECDFBE', '#F4EFDA', '#F7F3E5', '#F7F1E3', '#F0E3C9', '#CBBDA1', '#DBB88E', '#E9C18D', '#BBA282', '#314854', '#133A48', '#B7C4C6', '#DCE2E4', '#DDE1E3', '#EDEEEC', '#E4E9EA', '#E3E8EA', '#E3E8EB', '#E2E7EA', '#526B73', '#545E59', '#D7B189', '#EACFAB', '#F2EFE2', '#F6F0DF', '#F7EFDD', '#F8F1E2', '#F7F3E4', '#F6F2E2', '#F8F3E6', '#EEE0BF', '#CB993C', '#CE9C3B', '#CB9837', '#DEC187', '#F7EFE1', '#F4EBD6', '#CFA555', '#CD9937', '#CB9936', '#CC9B40', '#E5D0A5', '#F6F0E1', '#F3E8D2', '#D8B570', '#CD993C', '#D09C41', '#CF9C41', '#CF9C40', '#CF9C40', '#CF9C40', '#CF9C40', '#CF9C40', '#CF9C40', '#CF9C40', '#CF9C40', '#CF9C40', '#CF9C40', '#CF9C40', '#CF9C40', '#CF9C40', '#CF9C3F', '#CF9B3F', '#CF9E46', '#D1A248', '#D1A14E', '#CD9E45', '#CE9C45', '#CEA049', '#D0A24E', '#D0A14B', '#D0A14C', '#CEA149', '#D2A653', '#D4A859', '#CFA54E', '#CEA44B', '#D3A450', '#D2A24D', '#CC9D46', '#CEA049', '#D1A757', '#D0A452', '#CF9F44', '#B88E4B', '#C9A87A', '#EAC08F', '#E4BD8E', '#978A70', '#908D7C', '#264754', '#1E4151', '#1D4253', '#2C454B', '#867E5C', '#214050', '#1D4352', '#1E4151', '#324D54', '#9C937C', '#D8B387', '#EEC28F', '#E7BE91', '#BA975D', '#CDA348', '#D5AF66', '#D3AC5F', '#D1A85A', '#D6B064', '#CDA754', '#CFA755', '#D2AA5B', '#D4A855', '#CD9A3F', '#D4AE5F', '#D1AD60', '#CFAC60', '#D2AA59', '#D4AD63', '#D5AB5A', '#D3A555', '#D2A858', '#D2AC5F', '#D2AF66', '#D6B36F', '#D2A557', '#D09A3D', '#D09D3D', '#D09C3E', '#CF9C40', '#CF9C40', '#CF9C40', '#CF9C40', '#D19A3A', '#D19A3A', '#D19A3A', '#D09A3A', '#D09A3A', '#D09B3A', '#D09B3A', '#D19B3B', '#D19B39', '#D09937', '#D3A34E', '#DBBA76', '#E0BD81', '#DEBD7D', '#D8AE63', '#D8B265', '#DCBC76', '#D7B56B', '#D7B66E', '#D4B66E', '#DEC181', '#DEC184', '#D8B873', '#D9B971', '#DDC07F', '#DCBE7D', '#D9BA77', '#DBBA74', '#D9B973', '#DABD7A', '#D4A144', '#AF8C4B', '#938266', '#9C8D74', '#A59378', '#1B3B47', '#224250', '#23434D', '#173D4E', '#173F51', '#2D484C', '#95844E', '#20404B', '#1E4150', '#1C4050', '#3C555B', '#2D474F', '#8F8874', '#DAB68A', '#C7A780', '#A88A4F', '#D6A046', '#DFBF7E', '#D7B46A', '#DEBD80', '#DBC180', '#DABB78', '#DABB73', '#DABF7F', '#DBBE7A', '#C99A3E', '#E1C689', '#D8BC7D', '#D9BB7B', '#DDBD7B', '#E0C58D', '#E0C48D', '#DCBD7B', '#DCBD7E', '#DDC383', '#DEC68B', '#E3CD97', '#D9AF66', '#D09736', '#D09B3C', '#D29A3B', '#D29A3B', '#D29A3B', '#D19A3B', '#D19B3B', '#B8B590', '#B9B590', '#B8B590', '#B9B48F', '#B9B48E', '#BAB48F', '#B8B38D', '#B7B28F', '#BAB594', '#BBB696', '#BBB596', '#BAB696', '#B9B494', '#B8B394', '#B7B695', '#B8B796', '#B8B896', '#B9B795', '#B9B38F', '#BAB490', '#BAB591', '#B8B390', '#B9B594', '#BBB695', '#B9B593', '#BAB590', '#BCB792', '#BCB792', '#BDB793', '#BCB890', '#BFBA94', '#C1BD98', '#B1B69B', '#A0AEA5', '#8F9D9A', '#888370', '#8A826E', '#626961', '#43595C', '#304E55', '#34565E', '#7C9187', '#183D4B', '#194050', '#264651', '#364E53', '#586460', '#969586', '#8E958F', '#919F9E', '#AEB5A0', '#BEBC9C', '#BDB899', '#BCB999', '#BCBC9E', '#BBBA9B', '#BDBC9F', '#BDBD9D', '#BAB996', '#B8B896', '#B9B998', '#B9B697', '#BAB798', '#BBB99A', '#BBB99C', '#B9B89B', '#B8B89B', '#B9B79A', '#BAB798', '#BBB89A', '#B9B698', '#BAB696', '#BCB795', '#BCB795', '#BCB795', '#BBB696', '#BAB797', '#BBB797', '#B8B596', '#B5B497', '#9ABDCB', '#9ABDCB', '#9ABDCB', '#9ABDCB', '#9ABDCB', '#9ABDCC', '#9BBECD', '#9CBECD', '#9BBDCB', '#9ABCC9', '#9ABCC9', '#9BBECA', '#9BBFCB', '#9BBFCA', '#9ABFCB', '#99BECA', '#99BFCB', '#99BECA', '#9CBDCA', '#9BBCC9', '#9CBDCA', '#9DBFCC', '#9BBECB', '#9FC2D0', '#9FC2D0', '#9FC3D1', '#A1C6D3', '#A2C7D3', '#A2C6D4', '#A3C6D6', '#A3C7D5', '#A3C5D0', '#A2C2CD', '#A7C8D3', '#9CBFCB', '#AFA58F', '#EDBF8D', '#E6BC8C', '#DDB78B', '#C9AB84', '#91A6A6', '#9EC3D4', '#7B8681', '#A89576', '#C2A883', '#DAB78A', '#C7AB88', '#8CA7AE', '#A2C6D0', '#A6C5CD', '#A2C4D2', '#A2C5D0', '#A3C6D5', '#A4C6D4', '#A5C6D4', '#A1C2D1', '#A3C4D2', '#A3C5D3', '#A2C3D2', '#A3C4D2', '#A3C4D3', '#A3C5D4', '#A3C5D4', '#A3C4D4', '#A3C4D4', '#A0C2D1', '#9EBFCD', '#9FC0D0', '#A0C1CF', '#A0C3D0', '#9CC1CD', '#9DC2CF', '#9FC3D0', '#9DC1CE', '#9EC2CF', '#9FC2CE', '#9CBFCB', '#9BBECA', '#9EC1CD', '#9EC3CF', '#9CBAC5', '#9CBAC5', '#9CBAC5', '#9CBAC5', '#9CBAC5', '#9CBAC5', '#9CBAC5', '#9BB7C1', '#99B6BE', '#99B5BE', '#99B7BF', '#98B9C0', '#99BAC1', '#99BAC1', '#9ABAC1', '#9ABAC1', '#99BAC1', '#9ABAC1', '#9ABAC1', '#99B9C0', '#99B9C0', '#99B7BF', '#9AB6BE', '#99B5BE', '#9AB6BE', '#98B5BD', '#99B5BD', '#9AB6BE', '#9AB6BE', '#99B5BD', '#9AB5BD', '#99B4BD', '#99B4BA', '#9AB4BC', '#96B2BC', '#A8A08D', '#DDB585', '#E6BE8F', '#D4AD80', '#C5B090', '#95B2BC', '#9CBECA', '#9BA59F', '#CBAC82', '#E7C190', '#DBB584', '#BCA98A', '#91B3B8', '#9BBCC2', '#9ABBC2', '#9BBAC3', '#9CB9C5', '#9CBAC4', '#9BB9C5', '#9CBAC5', '#9BB9C4', '#9CBAC5', '#9DBAC6', '#9DBBC6', '#9CBAC5', '#9CBAC5', '#9CBAC5', '#9DBBC6', '#9DBAC5', '#9DBBC6', '#9EBCC7', '#9DBBC7', '#9DBBC6', '#9BBCC3', '#9BBCC2', '#99BAC0', '#99B9C0', '#99BAC0', '#98B9BF', '#9ABAC1', '#99BAC1', '#98B8BF', '#97B8BF', '#99B8C0', '#9BB6BF', '#9BBBC3', '#9BBAC3', '#99B9C2', '#9AB8C1', '#9CB7C0', '#9CB7C0', '#9AB5BF', '#97B4BC', '#97B5BD', '#98B6BE', '#99B5BE', '#99B3BD', '#99B3BC', '#98B2BB', '#97B2BB', '#9AB6BE', '#9AB8C0', '#9BB9C1', '#9BBBC4', '#9BBBC4', '#9BBBC4', '#9BBAC4', '#9CBAC4', '#9BBAC4', '#9CBAC4', '#9DB8C2', '#9BB6BF', '#9BB5BF', '#9AB5BF', '#9AB6BF', '#9AB6BF', '#9AB6BF', '#98BAC2', '#9DBCC6', '#94B3B7', '#BBAA8B', '#E8BC89', '#DAB485', '#E5BB8C', '#BCA88C', '#92B2BA', '#9CBEC9', '#9AA199', '#DFB889', '#DBB486', '#E4BB8B', '#CCB18B', '#94B0B6', '#9DBEC8', '#9BBAC1', '#9BBAC5', '#9CBAC5', '#9CBAC5', '#9CBAC5', '#9CBAC5', '#9CBAC5', '#9CBAC5', '#9CBAC5', '#9CBAC5', '#9CBAC5', '#9CBAC5', '#9BBBC3', '#98B8C0', '#97B8BF', '#98B7BF', '#99B6BD', '#99B6BD', '#99B6BD', '#9BB5BE', '#9BB5BE', '#9BB6BF', '#9AB7BF', '#98B8BF', '#99B6BE', '#9AB3BC', '#98B1B9', '#96B0B7', '#95AFB6', '#96AFB7', '#98AFB8', '#9CBBC3', '#9AB9C1', '#9AB9C0', '#99B7BF', '#9AB7BF', '#99B6BE', '#98B5BD', '#97B4BB', '#97B3BB', '#99B5BC', '#98B4BC', '#99B4BD', '#9AB5BE', '#9AB6BF', '#9AB7BF', '#99B9C0', '#98BAC1', '#98BCC2', '#9CBBC6', '#9CBAC5', '#9CBAC5', '#9CBAC5', '#9CBBC6', '#9CBAC5', '#9CBAC5', '#9CBBC6', '#9CBBC6', '#9CBAC5', '#9CBBC6', '#9CBAC6', '#9DBCC7', '#9CBAC6', '#A0BEC9', '#A5BFCE', '#92B3BE', '#B2A28C', '#E5BC8D', '#E0B988', '#E3BC8D', '#B6A58C', '#9BB8C3', '#9EC1CB', '#95A6A6', '#D7B48A', '#E5BA89', '#E6BB8A', '#BFAB8B', '#96B4BC', '#A2C3CB', '#9FC0C9', '#9EBDC7', '#9DBBC6', '#9CBAC5', '#9CBAC5', '#9CBAC5', '#9CBAC5', '#9DBBC6', '#9CBAC5', '#9DBAC5', '#9CBAC5', '#9BB8C3', '#98B8C0', '#99B8C0', '#99B8C1', '#99BAC2', '#99BBC2', '#9ABBC3', '#99BBC2', '#99B8C0', '#98B7BF', '#99B6BF', '#9AB6BF', '#98B5BF', '#97B5BE', '#96B5BE', '#99B2BB', '#98AEB7', '#96ACB5', '#95ACB4', '#95ACB4', '#98B4BB', '#98B4BB', '#98B3BB', '#99B3BB', '#97B1B9', '#97B1B8', '#98B2BA', '#97B4BB', '#97B5BC', '#98B7BE', '#98B6BD', '#98B4BB', '#97B4BA', '#96B2B9', '#96B1B9', '#97B0B9', '#96B0B9', '#97B2BB', '#95B4BC', '#98B7BF', '#99B9C1', '#98B8C0', '#98B8C0', '#9AB9C1', '#9BBAC3', '#9CBAC5', '#9CBAC5', '#9CBAC5', '#9CBAC5', '#9FBDC8', '#9DBBC6', '#9EBCC7', '#9FC0C8', '#9FC1C9', '#9DC1C9', '#9CB3B5', '#AAAAA7', '#ACA9A1', '#A6AAA3', '#98ACAF', '#A0C3CA', '#A0C3CA', '#9BB8C0', '#A6A79D', '#B8AE97', '#B4AC98', '#A0ABA7', '#9DBBC5', '#A0C2C9', '#9EBFC6', '#9AB8C2', '#9FBDC8', '#9DBBC6', '#9CBAC5', '#9CBAC5', '#9BB9C4', '#99B7C2', '#98B5BF', '#97B4BD', '#95B2BB', '#93AFB8', '#92ADB3', '#91ABB1', '#93ADB3', '#96B2BB', '#9AB8C4', '#9CBAC5', '#9CBAC5', '#9BBBC5', '#9ABAC4', '#9AB9C3', '#99B7C0', '#98B6BE', '#98B6BE', '#97B7BE', '#99B7BD', '#98B5BB', '#95B1B8', '#94B0B6', '#94AFB5', '#90A7AD', '#8FA6AC', '#91A8AE', '#92A9B0', '#93ABB2', '#93ABB2', '#92AAB1', '#92A9AF', '#93AAB0', '#93AAB0', '#93AAB1', '#92ACB3', '#93ADB4', '#95AFB6', '#96AFB8', '#96AFB9', '#96AFB8', '#97B1BA', '#98B6BE', '#9AB9C1', '#9AB9C1', '#98B7BF', '#97B6BE', '#99B7BF', '#9CBBC2', '#9DBAC5', '#9CBAC5', '#9CBAC5', '#9DBBC6', '#9DBBC6', '#9EBCC7', '#9EBCC7', '#9ABCC4', '#99BAC0', '#9BB5BE', '#98AFBA', '#96ACB5', '#94AEB5', '#96B4BA', '#9ABCC2', '#99BEC4', '#9ABBC2', '#9BB3BD', '#94ABB4', '#91A5AF', '#92A8B1', '#97ADB7', '#9CB8C0', '#9FC0C7', '#99BAC1', '#9CBCC6', '#9CBBC6', '#9CBAC5', '#9CBAC5', '#9CBAC5', '#9CBAC5', '#9CBAC5', '#9BBBC3', '#99BBC2', '#9ABBC2', '#9ABCC3', '#9CBAC4', '#9AB8C2', '#99B8C1', '#9CBAC4', '#9DBAC5', '#9DBAC5', '#9AB8C2', '#99B5BD', '#99B4BB', '#94B0B7', '#93ACB4', '#95A9B3', '#93A7B1', '#93A6B1', '#91A5AD', '#90A6AC', '#91A7AD', '#92A9AE', '#93ABB2', '#90A6AD', '#91A7AE', '#90A6AE', '#8FA4AB', '#8EA1A8', '#8DA0A7', '#8EA1A7', '#8DA1A8', '#8FA3AB', '#90A4AC', '#91A5AD', '#90A7B0', '#92A8B1', '#92A9B1', '#8EA6AF', '#8EA6AF', '#90A8B1', '#92ABB4', '#92AFBA', '#95B1BC', '#96B2BD', '#96B4BF', '#96B6C0', '#97B7C1', '#97B8C2', '#99B8C3', '#99B8C3', '#98B8C2', '#98B8C2', '#99B8C3', '#99B8C3', '#98B8C3', '#95B8BE', '#94B4B9', '#96AFB7', '#91A5AE', '#8FA2A9', '#8FA6AC', '#90AEB2', '#96B5BC', '#98B6C1', '#9AB7C3', '#94B0BB', '#90A5AE', '#8FA3AB', '#8FA3AB', '#8FA4AF', '#97B1BD', '#9AB8C2', '#98B9C2', '#97B9C3', '#97B8C3', '#97B9C3', '#97B8C2', '#98B7C2', '#98B7C2', '#98B8C3', '#98B8C3', '#98B8C2', '#98B8C2', '#97B8C2', '#97B7C1', '#98B8C2', '#98B8C3', '#98B8C3', '#98B8C3', '#98B8C3', '#98B8C3', '#97B6C1', '#96B5BF', '#96B5BF', '#97B5C0', '#97B3BE', '#93AFBA', '#92ADB8', '#91ADB7', '#93AFB9', '#93AEB8', '#92ADB6', '#91ACB5', '#81A89F', '#85ACA3', '#88AFA8', '#8DB3AC', '#97BBB5', '#95BAB3', '#91B6AF', '#8FB2AC', '#8DB0AA', '#89ACA6', '#87A9A3', '#85A7A2', '#88AAA5', '#8AACA7', '#8EB2AC', '#93B8B2', '#9ABFB8', '#99BEB9', '#9ABFBA', '#99BFBA', '#9BC1BC', '#9AC1BB', '#98BFBA', '#98C0BA', '#9AC1BC', '#9AC2BC', '#98C0BA', '#98C0BA', '#99C0BA', '#98BFBA', '#98BFBA', '#96BEB8', '#98BFB8', '#96BCB5', '#8CB2AC', '#86ABA5', '#80A4A0', '#7EA39F', '#81A5A1', '#87ABA7', '#94B9B4', '#98BDB8', '#8EB2AE', '#7EA29C', '#7DA19B', '#83A7A1', '#8EB1AD', '#9BBDBB', '#99BEBB', '#98C0BC', '#99BFBA', '#97BCB7', '#97BCB7', '#97BCB7', '#97BFB9', '#97BFB9', '#95BDB7', '#96BEB8', '#97BEB9', '#9AC1BC', '#99C1BB', '#97BFB9', '#98C0BA', '#9BC3BD', '#9BC3BC', '#99C1B9', '#95BDB5', '#93BAB3', '#95BBB4', '#98BEB7', '#9CC2BC', '#9BC2BB', '#9CC2BE', '#9CC2BE', '#9CC2BE', '#9CC2BE', '#9BC2BD', '#97BDB9', '#94BBB6', '#96BDB6', '#7DAD96', '#7EAD98', '#84B39F', '#81AF9B', '#88B5A0', '#8BB8A3', '#90BEAA', '#90BEAB', '#93C0B0', '#95C2B1', '#9DCAB8', '#A2CFBD', '#A1CEBC', '#A0CDBB', '#9FCBBA', '#9FCBB9', '#A7D3C1', '#AAD6C5', '#AFD8C7', '#B3DDCC', '#B5DECD', '#B5DECD', '#B5DFCE', '#B5DFCE', '#B5DECE', '#B5DECD', '#B5DECE', '#B5DFCE', '#B5DFCE', '#B5DECE', '#B5DECD', '#B5DFCE', '#B5DFCF', '#B6E0D0', '#B7E1D1', '#B1DBCC', '#9ECBBC', '#95C3B4', '#94C2B3', '#9AC6B6', '#B1DAC9', '#B8E1D0', '#A5CFBE', '#93C1B1', '#90BFB0', '#95C4B4', '#A8D4C5', '#B6DFD1', '#B2DCCD', '#B1DACB', '#B5DECE', '#B6DFCE', '#B5DECD', '#B5DECE', '#B5DFCE', '#B5DFCE', '#B5DFCE', '#B5DECE', '#B5DFCE', '#B5DECE', '#B6DFCE', '#B7E0CF', '#B7E0CF', '#B3DCCB', '#B3DCCB', '#B6DFCE', '#B2DBCA', '#ACD6C5', '#A7D3C1', '#9FCCBA', '#9AC6B4', '#9AC6B5', '#9FCBBA', '#A6D3C1', '#AFDCCA', '#B3DDCC', '#B7E0CF', '#B5DECD', '#ABD5C4', '#9FCCBA', '#6F9883', '#68927C', '#537D65', '#538066', '#57866D', '#5A856B', '#507C5E', '#57846C', '#6C9A80', '#709D85', '#7BA892', '#82AF9A', '#80AD99', '#8AB7A4', '#81B09B', '#8DBBA8', '#9CC9B8', '#A6D4C1', '#ADD7C7', '#A7D1C1', '#A9D4C3', '#AED7C7', '#B3DCCC', '#B3DCCC', '#B4DDCD', '#B5DECE', '#B4DDCD', '#B4DDCD', '#B3DCCC', '#B3DCCC', '#B3DCCC', '#B0D9C9', '#B0D8CA', '#B7DED1', '#B6DED1', '#AFD7CA', '#A2CCBC', '#9CC3B1', '#9FC2AD', '#A6CFBE', '#B9DFD1', '#B4DDCD', '#A9D2C4', '#98C2B0', '#9CC2B1', '#A1C9BA', '#B1DACB', '#B8E1D3', '#B3DCCF', '#AED7C9', '#B5DECF', '#B7E0D0', '#B8E1D2', '#B4DDCD', '#B4DDCD', '#B3DCCC', '#B3DCCC', '#B3DCCC', '#B3DDCD', '#B1DCCB', '#AAD5C4', '#A6D1C0', '#9EC9B8', '#96C1B0', '#A4CEBD', '#B3DBCC', '#B4DCCC', '#B3DBCC', '#AED8C9', '#A0CCBC', '#96C4B3', '#94C3B0', '#92BFAD', '#8FBCAA', '#97C4B3', '#A2CFBE', '#AFDACA', '#B5DFCF', '#B6E0D0', '#AED9C9', '#25454A', '#2B4D40', '#305033', '#2E5032', '#345733', '#335635', '#2C4F32', '#264A30', '#305738', '#40654B', '#3B624F', '#3F6C50', '#4A7359', '#517C69', '#46765B', '#5A896D', '#68967D', '#7FAD97', '#88B7A2', '#8CBAA5', '#8AB8A2', '#8DBAA6', '#97C3B2', '#9BC7B6', '#9DC9B8', '#9ECAB9', '#A1CEBD', '#AAD6C5', '#B1DCCC', '#B4DDCD', '#B5DECE', '#B6DFCF', '#B9E0D2', '#B9DFD2', '#B8DED1', '#BDE3D7', '#ADD0C0', '#D0BF9B', '#EFCAA1', '#CEBE9F', '#A9CBBC', '#B7E3D3', '#A7C2B1', '#DAC49E', '#E6C6A1', '#D2C39C', '#AAC8BB', '#B8E2D5', '#B5DED1', '#B6DED1', '#B3DCCE', '#B5DED0', '#B7E0D2', '#B2DBCD', '#B0D8C9', '#B4DDCD', '#B5DECD', '#B0D9C9', '#AAD4C3', '#9CC9B8', '#90C1AE', '#8ABAA8', '#88B7A5', '#8FBEAC', '#9AC7B5', '#A3CCBC', '#B1DBCA', '#B3DDCC', '#A7D1C1', '#76A191', '#5A8476', '#4D776A', '#436D5F', '#446E5E', '#497362', '#527C6C', '#5B8575', '#6C9786', '#7AA595', '#6B998A', '#1C4139', '#1A4236', '#314D36', '#556637', '#445A35', '#3F5A35', '#3C5535', '#39582E', '#30512E', '#2C4D31', '#38583E', '#274A3F', '#2A4C3F', '#23463E', '#214444', '#294D45', '#375B46', '#46674A', '#49694D', '#486D58', '#446C60', '#517C6B', '#5D8A78', '#649281', '#67967F', '#689685', '#77A693', '#8AB9A3', '#91BFAD', '#94BFAE', '#9CC5B4', '#A1CCBC', '#A5D0C1', '#ABD5C6', '#A9D3C4', '#AED8C9', '#AACEC0', '#CDB997', '#EDC59B', '#D9BA96', '#9FC2B5', '#BCE8D8', '#A6B9AD', '#EBC6A0', '#F2C9A0', '#DFBD99', '#A7C4B5', '#B7E1D3', '#B5DECD', '#B7E0CF', '#B6E0D0', '#AFDAC9', '#A3CDBC', '#9CC7B6', '#95C2AE', '#A0CCBA', '#ABD6C8', '#A9D5C4', '#9FCDBB', '#96C5B3', '#91C1AE', '#8EBEAA', '#8FBFAC', '#91C2AE', '#96C4B1', '#9CC8B5', '#8CB9A7', '#729F8D', '#5A8873', '#315644', '#284B33', '#3A5B3C', '#43603C', '#45603D', '#4B6941', '#415E42', '#2C5142', '#2A5347', '#345C4F', '#2F574D', '#375439', '#455D3A', '#526637', '#5F6D38', '#5A723E', '#465F34', '#3C5430', '#495E32', '#3C5B32', '#395B31', '#395A2F', '#355733', '#305136', '#2F4E3B', '#23423B', '#244639', '#3B5D3C', '#50683F', '#5A6D3E', '#50623D', '#475C3D', '#415940', '#3A533D', '#2D4C42', '#204345', '#204642', '#274D43', '#32584C', '#436B5A', '#3A6357', '#325A5A', '#436B63', '#578375', '#568576', '#5A8878', '#669687', '#709B8B', '#CDBA9A', '#DFC097', '#E8C59E', '#9DAC9B', '#95C6BB', '#9AB4A7', '#D3B599', '#E2C39D', '#C5B097', '#84A798', '#83B09C', '#82AB9D', '#6F9B94', '#6C9A8E', '#689589', '#5E8C80', '#5A897D', '#639183', '#669483', '#649184', '#5B877F', '#5B8780', '#638E87', '#618C85', '#517D73', '#4F7B71', '#578376', '#547F74', '#426966', '#305449', '#31523F', '#3B593A', '#47653C', '#678645', '#8A9948', '#859341', '#869748', '#869E48', '#709046', '#778746', '#6E7F46', '#526B48', '#517048', '#214632', '#25482F', '#3A5533', '#596636', '#5F6A39', '#445E2F', '#3A5C30', '#455E31', '#3B5831', '#455A34', '#3C592E', '#34562F', '#34582E', '#2B5033', '#2C4F35', '#3A5B3B', '#596D3E', '#66773F', '#688646', '#5E7A40', '#687F41', '#717E40', '#697F48', '#597043', '#4A6144', '#425E41', '#476441', '#426444', '#557847', '#40624B', '#2B4E49', '#284E3D', '#2E503F', '#365547', '#34534B', '#21494D', '#1B4349', '#958861', '#C39A52', '#C19B55', '#A69155', '#2E4E4B', '#7D7E56', '#C19C54', '#BF9651', '#B69B61', '#3E584B', '#244E46', '#405E4D', '#445C49', '#3F5748', '#2C4A46', '#375146', '#455D4B', '#506448', '#4F6946', '#537A49', '#4A7049', '#40624C', '#325247', '#2E5348', '#3F5B46', '#4C6B4D', '#204546', '#113247', '#173948', '#1F3F42', '#416544', '#7F8F4D', '#8FA44A', '#7FAA50', '#9DAD4D', '#8BAA4E', '#88AA4F', '#8DA84B', '#80A450', '#90A049', '#8A9A4A', '#738C4E', '#78944F', '#204736', '#234733', '#2D4D2E', '#3B562E', '#445D31', '#3F5A30', '#405B31', '#455B32', '#506637', '#486638', '#446138', '#2A4F2E', '#284A36', '#35573D', '#3B5B3D', '#4C693F', '#708A4C', '#809848', '#7BA34D', '#719B48', '#85A54D', '#8EAB50', '#80A750', '#6F934E', '#567041', '#516742', '#58774B', '#6D9354', '#70904B', '#759C50', '#6F904C', '#688850', '#6D804E', '#4E6646', '#516A4D', '#46714B', '#5A7D4D', '#A78E42', '#D89D3F', '#D29D39', '#D5A244', '#6B6B44', '#AC8F47', '#D59F3E', '#D19B3D', '#D29E44', '#798048', '#618C51', '#547C4A', '#6A894B', '#688249', '#6B7E47', '#828C50', '#808846', '#6C8348', '#7A864A', '#657D43', '#658047', '#7F914D', '#7A8947', '#697D47', '#6C7948', '#4C6743', '#2F4C46', '#1C3D4C', '#1E4047', '#1F4143', '#2A4E48', '#3B634A', '#597E4C', '#65874E', '#6D954D', '#729543', '#899F47', '#919646', '#6D864F', '#4F6D4C', '#4A6D4F', '#55754C', '#748547', '#2C533C', '#2A4C2F', '#465A34', '#4F6033', '#485F30', '#486233', '#445C30', '#455C32', '#476635', '#496438', '#44613B', '#3D5D3A', '#2C4D32', '#33553A', '#395C3C', '#507245', '#608746', '#7E9C4A', '#90AB4E', '#7BA74F', '#81A94F', '#80A94C', '#729A4D', '#6B9048', '#729B4B', '#597F4C', '#48694A', '#72944B', '#7A9C4E', '#5B7E44', '#5A7D44', '#516E47', '#486E4C', '#50764B', '#668550', '#5F7F51', '#69864D', '#948748', '#D69F43', '#D39C3D', '#D09D45', '#A58845', '#C59B46', '#D09C42', '#D19B40', '#D3A045', '#817F48', '#577F4A', '#537C4D', '#5D8448', '#67904D', '#5A8950', '#4E7B4E', '#456846', '#4D6C44', '#506A40', '#4C6137', '#2D4C34', '#315641', '#3E6441', '#4D6B4A', '#445E42', '#5D7C49', '#4C694A', '#375747', '#43674A', '#436748', '#3E6146', '#416849', '#506F4A', '#496A42', '#66874D', '#7B9B4E', '#64804C', '#516E4F', '#3B5E4D', '#1F464A', '#1C4145', '#294F3C', '#35543F', '#366143', '#406548', '#456439', '#3D5838', '#3E5537', '#4A623D', '#486639', '#4D6736', '#4C6133', '#335333', '#2B4E33', '#294934', '#314F38', '#3F5D3B', '#43633A', '#547343', '#5B8145', '#78984A', '#85AB4D', '#88AA50', '#7A9A45', '#7A9748', '#779E4E', '#638B4E', '#486F48', '#375F49', '#477550', '#6D9853', '#446B44', '#37614C', '#355D4A', '#23494E', '#264E50', '#2C5352', '#2C534F', '#22494D', '#1F4A51', '#6F724D', '#D9A245', '#D19D40', '#C89A42', '#C89642', '#D0A03D', '#CE9D41', '#CE9D3F', '#D6A144', '#847E47', '#37644F', '#396451', '#355E4F', '#355D49', '#416C52', '#325B50', '#315A50', '#295245', '#294B38', '#2A4C36', '#2D513D', '#315940', '#3D6247', '#466241', '#4D6745', '#577745', '#6B8F4D', '#4A6D47', '#416741', '#3A5E3F', '#355940', '#2E513C', '#556E42', '#6F864D', '#4E7349', '#3A654D', '#3A624F', '#2E524E', '#2A514C', '#355D4A', '#507445', '#7B944E', '#67884C', '#3F6948', '#345743', '#4A6142', '#485836', '#415739', '#435C3E', '#3B563B', '#45633A', '#5A7540', '#37582F', '#2F522E', '#355533', '#2F4D34', '#3C5A3C', '#5D8146', '#65914A', '#7C9A4B', '#92A64C', '#80A84D', '#90AA4E', '#8EA34E', '#7B9C52', '#4F774A', '#416D4F', '#345A4C', '#2D5352', '#1C454B', '#304E55', '#496265', '#163C48', '#173D4F', '#1A4050', '#1A3F4F', '#1A3F50', '#1B3F50', '#1D3F50', '#143B51', '#58604B', '#D19E46', '#C1943F', '#C1943E', '#C3953F', '#C0943C', '#C2963B', '#CA983B', '#D5A343', '#5D624A', '#1F4A4F', '#1D484D', '#1F4750', '#1F454B', '#234853', '#1B4050', '#153C4C', '#234451', '#506364', '#21434E', '#455C5B', '#5A7167', '#3B624B', '#4D6A49', '#4D6745', '#567248', '#688E4C', '#4F734A', '#3F6444', '#3A5E43', '#2F523C', '#2B503B', '#2F5247', '#395C48', '#3A6045', '#396249', '#3C664A', '#517247', '#547341', '#4E6C41', '#4B673C', '#5E733B', '#839049', '#265038', '#416742', '#5A7148', '#3A4F3E', '#374E39', '#3E553B', '#465E3B', '#4E6841', '#507040', '#3C5B32', '#274A30', '#30503C', '#2F4E3E', '#446645', '#5C804E', '#648D4F', '#7A9F4E', '#809B4E', '#7E9F4A', '#91974C', '#687849', '#4A684F', '#2F5B4E', '#224D4C', '#1B3E4A', '#6C7775', '#8D8D7F', '#B2A287', '#E9CEA6', '#92907F', '#294753', '#173C49', '#133949', '#173D4E', '#1C4050', '#1D404E', '#193E51', '#334A4C', '#AE9C74', '#C2A77A', '#C0A77C', '#C1A97D', '#C4A979', '#BFA273', '#B79C67', '#9D8E5B', '#25434C', '#184150', '#1A4051', '#194051', '#173E4E', '#12384E', '#1C3F50', '#465A5F', '#BCAD92', '#D7BF9C', '#BBA98D', '#A8A08B', '#526765', '#173C4A', '#3D5E4B', '#516F48', '#648549', '#557647', '#476B4C', '#3D644C', '#305447', '#2C5045', '#2B5143', '#2F5841', '#345C43', '#3A6444', '#3C6444', '#4A6F48', '#486A43', '#37563F', '#1E4349', '#29534B', '#356348', '#426B4B', '#396345', '#43704D', '#45704B', '#436744', '#385940', '#344E47', '#465945', '#495D43', '#465936', '#365532', '#2E4E3B', '#284B43', '#21444B', '#264B53', '#224650', '#21444F', '#2F5353', '#294D4B', '#42664D', '#2C4F4E', '#183D4D', '#173C50', '#1C4050', '#1C4051', '#1E4252', '#1F414F', '#2E4D57', '#40585E', '#495C5E', '#7E8477', '#BAAC92', '#BEAC8F', '#868877', '#3A565B', '#153C49', '#153F4D', '#163C4D', '#2E4B55', '#E4CAA8', '#F5CD9F', '#E9C79E', '#E5C69E', '#F1CDA2', '#EFCCA0', '#F9D4A9', '#898C7D', '#F0374A', '#1C4050', '#164054', '#133A4B', '#37535B', '#898A7D', '#D2BC9D', '#D7BF9E', '#6C726A', '#314D52', '#284953', '#1D3F4F', '#193C4E', '#1D4050', '#1F4251', '#32534E', '#50714F', '#3B5C49', '#2A4F4D', '#284F4D', '#2C544C', '#274E4C', '#1F474F', '#234D4D', '#3A6856', '#396654', '#325E52', '#265050', '#214A4F', '#22494C', '#22484D', '#20454D', '#22494F', '#305C53', '#517A53', '#395E52', '#264E4F', '#2D5453', '#365C52', '#1E3F4B', '#384E48', '#455244', '#495A3E', '#2B4B3E', '#214545', '#224648', '#214549', '#1E4151', '#1F4357', '#234656', '#274A5E', '#284B5E', '#204451', '#264B5B', '#305562', '#315461', '#345766', '#375A68', '#375A69', '#375966', '#305565', '#305768', '#264C5E', '#214959', '#264852', '#80857C', '#D5BE99', '#EDCFA4', '#8B907E', '#3D575F', '#234958', '#2E4B56', '#E1C6A1', '#F2CA9E', '#EEC89E', '#EEC89E', '#EDC79E', '#EDC99C', '#F8D0A4', '#9A9482', '#11374B', '#153B4C', '#1F404E', '#6E756D', '#E7C9A2', '#EBCDA7', '#8B8C7F', '#294853', '#14394A', '#183E4E', '#193F50', '#1B3F52', '#1C4050', '#1C4050', '#1B3F51', '#183D4E', '#315655', '#224651', '#1E4353', '#2A5050', '#2E564C', '#274D4E', '#204651', '#1E4451', '#21484F', '#1E454F', '#1D4350', '#1D454B', '#244C4C', '#2B534E', '#2A514D', '#254C4C', '#1F4350', '#1A3F50', '#1F4254', '#1B3E52', '#1C3F50', '#1A3E50', '#1B3F4F', '#1F414E', '#1E3F4D', '#2E4847', '#384B45', '#2F524E', '#2B4F61', '#355869', '#3D6171', '#416474', '#426673', '#446874', '#456975', '#446874', '#406470', '#436672', '#436773', '#446773', '#446671', '#446671', '#446571', '#426470', '#436470', '#42646F', '#426370', '#416270', '#3B5E6B', '#395D6B', '#40626A', '#778378', '#DEC39C', '#E8C79F', '#A79C84', '#7E7F73', '#DEC39F', '#E2C09A', '#F0C89F', '#EEC79E', '#EEC89F', '#DBB997', '#F3CBA2', '#C9B498', '#3E585F', '#807E73', '#CEB697', '#F4CEA3', '#BBAB92', '#39535A', '#E0384C', '#183D4E', '#1B3F4F', '#1C4050', '#1C4050', '#1C4050', '#1C4050', '#1C4050', '#1C4050', '#1C4050', '#1A3E4F', '#1B3F50', '#1C404F', '#23494C', '#2B524D', '#214650', '#1D4152', '#224650', '#284E4E', '#24494F', '#1F434F', '#1B3F4F', '#204450', '#29504E', '#284F4E', '#214650', '#1C4050', '#1C4050', '#1D4053', '#24485A', '#294D5F', '#315464', '#325666', '#426575', '#406372', '#3A5C6E', '#416573', '#496D79', '#4F7382', '#4C727F', '#4C727F', '#4B717E', '#4A707D', '#496F7D', '#496F7D', '#496F7D', '#496E7C', '#486E7B', '#476D7B', '#476D7B', '#486D7A', '#476C7A', '#476C7A', '#476A76', '#476A76', '#476A76', '#466975', '#466874', '#466874', '#456875', '#426775', '#38626F', '#566D72', '#C0B097', '#F7CEA3', '#C5AA89', '#E3C4A0', '#E8C49B', '#EEC89F', '#ECC79F', '#F1CA9F', '#D7BA96', '#D1B693', '#F0CBA3', '#BBA385', '#EDC79E', '#EFCAA1', '#959281', '#365863', '#214758', '#294E5D', '#1C404E', '#244755', '#193E4D', '#143A4A', '#173C4D', '#1B4052', '#183C4E', '#193E4F', '#1B4050', '#1C4050', '#1C4050', '#1C4050', '#1C404F', '#1F4350', '#1C404F', '#1B3F4E', '#1F434D', '#294F4D', '#264C4F', '#1E4151', '#1C4050', '#1D4050', '#254A4F', '#244A4D', '#1C4050', '#1C3F52', '#1C4050', '#3E6775', '#4D7684', '#517A88', '#537C8A', '#537C8A', '#547D8C', '#557E8C', '#557E8C', '#547D8B', '#537B8A', '#527A89', '#527988', '#517888', '#507887', '#507787', '#507787', '#4F7685', '#4E7585', '#4C7383', '#4A7181', '#497080', '#48707F', '#486F7F', '#466E7E', '#456D7D', '#456E79', '#467079', '#47707A', '#476F79', '#496F7A', '#4A707B', '#49707A', '#4B717E', '#4C717E', '#486D7A', '#56747D', '#BDB199', '#EBCBA3', '#B6A082', '#DBB992', '#EEC89F', '#E9C49D', '#EDC79D', '#E7C8A0', '#9C8B6D', '#E9C69B', '#F0CAA0', '#DBBF9E', '#B6B5AB', '#96A6AA', '#93A6AB', '#98A9B0', '#A8B6BE', '#ADBAC1', '#ACB9BE', '#A1B1B7', '#7E8E96', '#6E858D', '#204251', '#5A757D', '#34535F', '#1C4051', '#1B3F4F', '#1C4050', '#1C4050', '#1B3F50', '#1C4050', '#1C4050', '#1A3F4E', '#1C414E', '#264C4E', '#22474D', '#1C3F50', '#1C4050', '#1C4050', '#1D414F', '#1C404F', '#1C3F51', '#1C3F52', '#1C4050', '#789EAA', '#739AA5', '#7299A4', '#69919D', '#5F8A98', '#55828F', '#51808C', '#527E8C', '#537D8D', '#547E8D', '#547E8E', '#55808F', '#517D8C', '#527D8C', '#527C89', '#547C89', '#567F8B', '#5C8490', '#6C909C', '#7EA1AD', '#88ABB7', '#8AAEBA', '#8BAFB9', '#8CAAB3', '#99B2BA', '#B0C2C6', '#BCCDD1', '#C2D3D7', '#C3D3D7', '#CAD7DC', '#D6E1E4', '#D9E1E3', '#DEE4E5', '#E4EAEA', '#E4E8E8', '#F0F4F5', '#C8CCCA', '#98876C', '#99876A', '#B09C7F', '#D1B590', '#D0B28D', '#CEB491', '#C6AF8B', '#968469', '#AF9B7C', '#A6987F', '#DFE1DD', '#FBFEFD', '#FDFFFF', '#FFFFFF', '#FFFFFF', '#FFFFFF', '#FFFFFF', '#FFFFFF', '#FFFFFF', '#FFFFFF', '#D5DCDD', '#6B7F86', '#D0DDDD', '#60757E', '#798F97', '#42606B', '#163F4F', '#1C4250', '#1E4452', '#1B3F4E', '#1B404E', '#234853', '#1C3F4E', '#183D4F', '#1A3F4F', '#1C4050', '#1C4050', '#1C4050', '#1C4051', '#1C4051', '#1C4051', '#1C4050', '#1A3F4C', '#D0ECF5', '#D0EBF5', '#CFEBF4', '#CBE7F1', '#C5E2EB', '#B4D4DD', '#9DC1C9', '#91B4BC', '#97B9C1', '#A6C9D2', '#ADCFD7', '#B5D4DE', '#AFCED7', '#B2D2DB', '#AFCED6', '#B3D2D9', '#BBDAE1', '#C2E0E8', '#CEEBF4', '#D1EFF7', '#D2EFF8', '#D2EFF7', '#D2EFF6', '#D3EFF6', '#D6F0F7', '#D4EFF6', '#D2EDF4', '#D3EEF5', '#D1EDF5', '#D0EDF8', '#D5EFF6', '#D9F0F4', '#D9EEF2', '#E9F6F9', '#F5FBFC', '#FAFDFD', '#D5D7D6', '#907D5F', '#B09873', '#C3B090', '#C6B090', '#E3C39B', '#AB9A7E', '#8E7C5A', '#A88761', '#9B896D', '#C2C8C2', '#E5F6F8', '#D2E9F2', '#CDE8F1', '#D3EAF1', '#DEEFF4', '#E4F1F2', '#F3F9F8', '#FAFDFD', '#EDF7F7', '#F5F9F9', '#FFFFFF', '#FFFFFD', '#FFFFFF', '#C2CBCE', '#E1E6E5', '#A8B5BA', '#305159', '#44606B', '#526E76', '#3A5A65', '#35545E', '#6F878E', '#163B49', '#3F606A', '#274958', '#193E4E', '#1B3F4F', '#1C4050', '#1A3E4E', '#1B3F4F', '#1C4051', '#1A3F4E', '#244A54', '#CDEAF3', '#CDEAF3', '#CDEAF3', '#CEEBF3', '#CFEBF3', '#D0EDF4', '#D2EEF6', '#D3EFF7', '#D2EFF6', '#D1EEF5', '#D1EDF5', '#D0EDF4', '#D1EDF5', '#D0EDF5', '#D1EDF5', '#D0EDF4', '#CFECF3', '#CEEBF3', '#CDEAF3', '#CDEAF2', '#CDEAF2', '#CDEAF3', '#CDEAF3', '#CDEAF2', '#CCEAF2', '#CDEAF2', '#CDEAF2', '#CDEAF2', '#CDEAF2', '#CDEAF2', '#CCEAF2', '#CCE9F1', '#CCE9F2', '#CBE9F1', '#CCEAF1', '#CFEAF0', '#CEEBF5', '#958E7B', '#BFA888', '#D2B996', '#DBBF9D', '#D3BB99', '#C2AA88', '#917B5D', '#9C8564', '#B2B9AF', '#D3F2FB', '#CBE9F1', '#CCE9F3', '#CDE9F2', '#CCE9F2', '#CBE9F2', '#C9E7EE', '#D0E9F1', '#D3EBF2', '#CAE8EE', '#CFE9EE', '#EBF5F8', '#FFFFFD', '#FFFFFC', '#FFFFFF', '#FFFFFF', '#FAFBFB', '#D8DADB', '#D6DADC', '#DEE4E3', '#9BAAAE', '#A2AFB2', '#B8C5C8', '#2C4C58', '#ABB9BD', '#3A5763', '#163C4C', '#1F4554', '#183D4D', '#325261', '#365464', '#193B4E', '#1B3E51', '#74939C', '#CDEAF2', '#CDEAF2', '#CDEAF2', '#CDEAF2', '#CDEAF2', '#CDEAF2', '#CDEAF2', '#CCEAF2', '#CEECF4', '#D0EFF7', '#CEEBF3', '#D1EFF7', '#CEEBF3', '#CFEDF5', '#CEEBF4', '#D0EDF6', '#CFECF5', '#D1EEF7', '#CEEBF4', '#D1EEF7', '#CFECF5', '#CFECF5', '#D0EEF6', '#CEECF5', '#D1EEF7', '#CFECF4', '#D2EFF7', '#CEEBF4', '#CDEAF2', '#CDEAF2', '#CDEAF2', '#CDEAF2', '#CDEAF2', '#CDEAF2', '#CDEAF2', '#CDEAF2', '#D0ECF4', '#969687', '#907F62', '#A9977B', '#BBA686', '#9A8E77', '#A48A68', '#AD8A61', '#9D815C', '#B7C7C5', '#CFEDF7', '#CDEAF2', '#CDEAF2', '#CDEAF2', '#CDEAF2', '#CDEAF2', '#CDEAF2', '#CCEAF2', '#CBEAF1', '#CFE8F2', '#CCEAF3', '#CBE8EF', '#E4F3F6', '#F5F9FA', '#FCFFFE', '#FFFFFE', '#FFFFFF', '#FFFFFF', '#FFFFFF', '#FFFFFF', '#F2F4F3', '#E7F0F2', '#E5F1F3', '#A9BABD', '#E6EFF1', '#738D94', '#5D7E89', '#2B4C5B', '#17394B', '#75949E', '#7C9BA4', '#183A47', '#325663', '#B0D0D8', '#CDEAF2', '#CDEAF2', '#CDEAF2', '#CDEAF2', '#CDEAF2', '#CDEAF2', '#CDEAF2', '#CFECF2', '#BAD5D7', '#A1B4B9', '#C5E0E5', '#9DAFB7', '#BCD5D9', '#A1B4BB', '#C3DDE2', '#AABEC5', '#BDD3DA', '#A4B9C0', '#BDD7DB', '#A3B5BD', '#B5CBD1', '#B6CED2', '#A6BCBF', '#B8D0D3', '#A3B7BB', '#B8CDD0', '#9DAFB5', '#C3DBE2', '#CDECF3', '#CDEAF2', '#CDEAF2', '#CDEAF2', '#CDEAF2', '#CDEAF2', '#CDEAF2', '#CDE9F2', '#D2ECF5', '#B6CBCA', '#99917B', '#9C8464', '#988063', '#A48963', '#AA8B61', '#AA9170', '#ADAEA0', '#CBE8EF', '#CCEAF4', '#CDEAF2', '#CDEAF2', '#CDEAF2', '#CDEAF2', '#CDEAF2', '#CDEAF2', '#CDEAF2', '#CDEAF2', '#CDEAF2', '#CDEAF2', '#CEE9F2', '#CCE8F4', '#CEE7F0', '#E2F2F3', '#F1F9F7', '#F4FAFA', '#E6F3F5', '#D9EEF0', '#D7EDF1', '#D2EBF1', '#CDEAF1', '#CCE9F1', '#D4EFF7', '#CDEAF1', '#D1EEF5', '#C7E5EC', '#577781', '#395A68', '#AFCFD7', '#CEEDF3', '#608087', '#93B1B8', '#D4F1F9', '#CDEAF2', '#CDEAF2', '#CDEAF2', '#CDEAF2', '#CDEAF2', '#CDEAF2', '#CDEAF2', '#D1ECF3', '#B9D1D6', '#9FB4BB', '#C2DAE2', '#A0B3BB', '#C4DBE2', '#B6CCD3', '#C2DBE1', '#B4C9CF', '#C2D8DD', '#A8BEC3', '#C1D8DC', '#AABEC4', '#B3C9CE', '#B3C9CE', '#A4BABD', '#C4DDDF', '#AEC4C7', '#C1D9DD', '#A0B7BD', '#C3DDE4', '#CDEBF3', '#CDEAF2', '#CDEAF2', '#CDEAF2', '#CDEAF2', '#CDEAF2', '#CDEAF2', '#CDEAF3', '#CEE9F2', '#D1EDF3', '#CBE8F0', '#BFD7DD', '#BFD1D3', '#C1D6D7', '#BDD6D9', '#C3E1E9', '#CFECF7', '#CDEAF4', '#CCEAF1', '#CDEAF2', '#CDEAF2', '#CDEAF2', '#CDEAF2', '#CDEAF2', '#CDEAF2', '#CDEAF2', '#CDEAF2', '#CDEAF2', '#CDEAF2', '#CDEAF3', '#CDE9F4', '#CDE9F4', '#CCE8F2', '#CCE9EE', '#CEE9F1', '#CAE9F2', '#CAE9F2', '#CDE9F2', '#CDEAF2', '#CDEAF1', '#CDEAF2', '#CDEAF2', '#CDEAF2', '#CDEAF2', '#D1ECF5', '#C5E1E8', '#BFDDE2', '#D1EFF4', '#CEEBF1', '#CFECF1', '#D0EEF3', '#CDEAF2', '#CDEAF2', '#CDEAF2', '#CDEAF2', '#CDEAF2', '#CDEAF2', '#CDEAF2', '#CDEAF2', '#CDEAF2', '#CFECF4', '#D1EEF6', '#CEEBF3', '#D1EEF6', '#CEEBF3', '#CFEDF5', '#CEEBF3', '#CFECF4', '#CEEBF3', '#D0EDF5', '#CEECF4', '#D0EEF6', '#CFECF4', '#CFECF5', '#D0EEF6', '#CEEBF3', '#D0EEF6', '#CEEBF3', '#D1EEF6', '#CEEBF3', '#CDEAF2', '#CDEAF2', '#CDEAF2', '#CDEAF2', '#CDEAF2', '#CDEAF2', '#CDEAF2', '#CDEAF2', '#CDEAF2', '#CDEAF2', '#CEEBF3', '#CFECF5', '#CFEDF6', '#CEEDF6', '#CEEDF6', '#CEEBF4', '#CDEAF2', '#CDEAF2', '#CDEAF2', '#CDEAF2', '#CDEAF2', '#CDEAF2', '#CDEAF2', '#CDEAF2', '#CDEAF2', '#CDEAF2', '#CDEAF2', '#CDEAF2', '#CDEAF2', '#CDEAF2', '#CDEAF2', '#CDEAF2', '#CDEAF2', '#CDEAF2', '#CDEAF2', '#CDEAF2', '#CDEAF2', '#CDEAF2', '#CDEAF2', '#CDEAF2', '#CDEAF2', '#CDEAF2', '#CDEAF2', '#CDEAF2', '#CDEAF2', '#CEEBF3', '#CFECF4', '#CDEAF2', '#CDEAF2', '#CDEAF2', '#CDEAF2', '#CDEAF2', '#CDEAF2', '#CDEAF2', '#CDEAF2', '#CDEAF2', '#CDEAF2', '#CDEAF2', '#CDEAF2', '#CDEAF2', '#CDEAF2', '#CDEAF2', '#CDEAF2', '#CDEAF2', '#CDEAF2', '#CDEAF2', '#CDEAF2', '#CDEAF2', '#CDEAF2', '#CDEAF2', '#CDEAF2', '#CDEAF2', '#CDEAF2', '#CDEAF2', '#CDEAF2', '#CDEAF2', '#CDEAF2', '#CDEAF2', '#CDEAF2', '#CDEAF2', '#CDEAF2', '#CDEAF2', '#CDEAF2', '#CDEAF2', '#CDEAF2', '#CDEAF2', '#CDEAF2', '#CDEAF2', '#CDEAF2', '#CDEAF2', '#CDEAF2', '#CDEAF2', '#CDEAF2', '#CDEAF2', '#CDEAF2', '#CDEAF2', '#CDEAF2', '#CDEAF2', '#CDEAF2', '#CDEAF2', '#CDEAF2', '#CDEAF2', '#CDEAF2', '#CDEAF2', '#CDEAF2', '#CDEAF2', '#CDEAF2', '#CDEAF2', '#CDEAF2', '#CDEAF2', '#CDEAF2', '#CDEAF2', '#CDEAF2', '#CDEAF2', '#CDEAF2', '#CDEAF2', '#CDEAF2', '#CDEAF2', '#CDEAF2', '#CDEAF2', '#CDEAF2', '#CDEAF2', '#CDEAF2', '#CDEAF2', '#CDEAF2', '#CDEAF2', '#CDEAF2', '#CDEAF2', '#CDEAF2', '#CDEAF2', '#CDEAF2', '#CDEAF2']\n"
     ]
    }
   ],
   "source": [
    "ascii_picture = render_ascii(all_info[0][\"cover\"])\n",
    "\n",
    "# for line in ascii_picture[0]:\n",
    "#     for char in line:\n",
    "#         print(char, end='')\n",
    "\n",
    "print(ascii_picture[1])"
   ]
  },
  {
   "cell_type": "code",
   "execution_count": null,
   "id": "2205111a-597a-4acc-8430-a9cfcbd535c1",
   "metadata": {},
   "outputs": [],
   "source": []
  }
 ],
 "metadata": {
  "kernelspec": {
   "display_name": "Python 3 (ipykernel)",
   "language": "python",
   "name": "python3"
  },
  "language_info": {
   "codemirror_mode": {
    "name": "ipython",
    "version": 3
   },
   "file_extension": ".py",
   "mimetype": "text/x-python",
   "name": "python",
   "nbconvert_exporter": "python",
   "pygments_lexer": "ipython3",
   "version": "3.11.2"
  }
 },
 "nbformat": 4,
 "nbformat_minor": 5
}
