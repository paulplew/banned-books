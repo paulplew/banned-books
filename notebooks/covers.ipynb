{
 "cells": [
  {
   "cell_type": "code",
   "execution_count": 35,
   "id": "281ad141-ecd7-45f1-aa8c-1300b6199222",
   "metadata": {},
   "outputs": [],
   "source": [
    "import os\n",
    "import csv\n",
    "import requests\n",
    "import urllib.parse\n",
    "import pandas as pd\n",
    "import IPython.display as Disp\n",
    "from PIL import Image, ImageEnhance\n",
    "from colors import color\n",
    "from numpy import interp, random\n",
    "import logging\n",
    "\n",
    "from io import BytesIO"
   ]
  },
  {
   "cell_type": "markdown",
   "id": "ffb63619-f2f3-4dc8-9d1d-a5bb5f34cb37",
   "metadata": {},
   "source": [
    "# Book Cover Processing"
   ]
  },
  {
   "cell_type": "code",
   "execution_count": 2,
   "id": "b0d805d7-4b08-41ce-a0ad-510078bcf75d",
   "metadata": {},
   "outputs": [],
   "source": [
    "SEARCH_URL = \"https://openlibrary.org/search.json{}\"\n",
    "COVER_URL = \"https://covers.openlibrary.org/b/isbn/{}-L.jpg\"\n",
    "\n",
    "class BookNotFoundException(Exception):\n",
    "    pass\n",
    "\n",
    "class CoverNotFoundException(Exception):\n",
    "    pass\n",
    "\n",
    "class HTTPCodeException(Exception):\n",
    "    pass"
   ]
  },
  {
   "cell_type": "code",
   "execution_count": 3,
   "id": "f9008c94-79b9-4ff0-9846-5491d39c476b",
   "metadata": {},
   "outputs": [],
   "source": [
    "logger = logging.getLogger('my_logger')\n",
    "logger.setLevel(logging.DEBUG)"
   ]
  },
  {
   "cell_type": "code",
   "execution_count": 4,
   "id": "1626680a-b563-4d13-bd59-1c81edbd2152",
   "metadata": {},
   "outputs": [],
   "source": [
    "# load data\n",
    "data_file = os.path.join('../data/banned_books_clean.pickle')\n",
    "data = pd.read_pickle(data_file)"
   ]
  },
  {
   "cell_type": "code",
   "execution_count": 5,
   "id": "1716aad5-1050-479e-ad9c-57f04933f1ba",
   "metadata": {},
   "outputs": [
    {
     "data": {
      "text/html": [
       "<div>\n",
       "<style scoped>\n",
       "    .dataframe tbody tr th:only-of-type {\n",
       "        vertical-align: middle;\n",
       "    }\n",
       "\n",
       "    .dataframe tbody tr th {\n",
       "        vertical-align: top;\n",
       "    }\n",
       "\n",
       "    .dataframe thead th {\n",
       "        text-align: right;\n",
       "    }\n",
       "</style>\n",
       "<table border=\"1\" class=\"dataframe\">\n",
       "  <thead>\n",
       "    <tr style=\"text-align: right;\">\n",
       "      <th></th>\n",
       "      <th>ID</th>\n",
       "      <th>author</th>\n",
       "      <th>title</th>\n",
       "      <th>challenge_type</th>\n",
       "      <th>challenger</th>\n",
       "      <th>decision</th>\n",
       "      <th>library_type</th>\n",
       "      <th>day</th>\n",
       "      <th>month</th>\n",
       "      <th>year</th>\n",
       "      <th>challenge_date</th>\n",
       "      <th>state</th>\n",
       "    </tr>\n",
       "  </thead>\n",
       "  <tbody>\n",
       "  </tbody>\n",
       "</table>\n",
       "</div>"
      ],
      "text/plain": [
       "Empty DataFrame\n",
       "Columns: [ID, author, title, challenge_type, challenger, decision, library_type, day, month, year, challenge_date, state]\n",
       "Index: []"
      ]
     },
     "execution_count": 5,
     "metadata": {},
     "output_type": "execute_result"
    }
   ],
   "source": [
    "data.loc[data[\"title\"].str.contains(\"anus\")]"
   ]
  },
  {
   "cell_type": "code",
   "execution_count": 6,
   "id": "0d063d77-5bd7-4037-8d93-f80fb60c88b1",
   "metadata": {},
   "outputs": [],
   "source": [
    "def get_book_info_and_cover(author, title):\n",
    "    # set up logger       \n",
    "    log_format = f\"%(asctime)s - %(levelname)s - Author: {author} - Book: {title} - Message: %(message)s\"\n",
    "    formatter = logging.Formatter(log_format)\n",
    "    handler = logging.StreamHandler()\n",
    "    handler.setFormatter(formatter)\n",
    "    logger.addHandler(handler)\n",
    "    \n",
    "    # sanatize author and title\n",
    "    safe_author = urllib.parse.quote_plus(author)\n",
    "    safe_title = urllib.parse.quote_plus(title)\n",
    "\n",
    "    # build the query url for the search\n",
    "    query = f\"?author={safe_author}&q={safe_title}\"\n",
    "    query_url = SEARCH_URL.format(query)\n",
    "\n",
    "    # execute request for search url\n",
    "    logger.info(f\"fetching: '{query_url}'\")\n",
    "    response = requests.get(query_url)\n",
    "\n",
    "    # raise if there is a non success code\n",
    "    if response.status_code != 200:\n",
    "        raise HTTPCodeException(f\"url: {query_url} returned {response.status_code}\")\n",
    "        \n",
    "    matching_books = response.json()\n",
    "\n",
    "    # if there are no matches\n",
    "    if matching_books[\"numFound\"] == 0:\n",
    "        raise BookNotFoundException(f\"Could not find and matches for author: '{author}', title: '{title}'\")\n",
    "\n",
    "    first_book = matching_books[\"docs\"][0]\n",
    "    for isbn in first_book[\"isbn\"]: \n",
    "        query_url = COVER_URL.format(isbn)\n",
    "        \n",
    "        logger.info(f\"fetching: '{query_url}'\")\n",
    "        cover = requests.get(query_url)\n",
    "        cover_image = Image.open(BytesIO(cover.content))\n",
    "        \n",
    "        if cover_image.height > 1 and cover_image.width > 1:\n",
    "            break\n",
    "        else:\n",
    "            logger.warning(f\"Cover not located for isbn: '{isbn}'\")\n",
    "    \n",
    "    if cover_image.height == 1 and cover_image.width == 1:\n",
    "        raise CoverNotFoundException(f\"No covers found for any isbn in: {','.join(first_book['isbn'])}\")\n",
    "\n",
    "    logger.info(f\"All info located\")\n",
    "    return {\n",
    "        \"author\": author,\n",
    "        \"title\": title,\n",
    "        \"cover\": Image.open(BytesIO(cover.content))\n",
    "    }"
   ]
  },
  {
   "cell_type": "code",
   "execution_count": 25,
   "id": "cd5099b3-0129-4685-9179-ff97f9f898fc",
   "metadata": {},
   "outputs": [],
   "source": [
    "def render_ascii(img, new_width=80):\n",
    "    chars =  \" .,-~:;!=*#$@\"\n",
    "    \n",
    "    _, _, width, height = img.getbbox()\n",
    "\n",
    "    new_height = int((width / height) * new_width)\n",
    "    \n",
    "    img = img.resize((new_width, int(new_height)))\n",
    "    pixels = img.getdata()\n",
    "\n",
    "    new_pixels = []\n",
    "    for pixel in pixels:\n",
    "        luminance = .2126 * pixel[0] + .7152 * pixel[1] + .0722 * pixel[2]\n",
    "        # clip the pixel from 255 values to the number of possible values in the chars string\n",
    "        new_pixels.append(chars[int(interp(luminance, [0, 256], [0, len(chars)]))])\n",
    "\n",
    "    colors = pixels_as_hex(pixels)\n",
    "    \n",
    "    new_pixels_count = len(new_pixels)\n",
    "    ascii_picture = [new_pixels[index:index+new_width]\n",
    "                     for index in range(0, new_pixels_count, new_width)]\n",
    "    return ascii_picture, colors"
   ]
  },
  {
   "cell_type": "code",
   "execution_count": 26,
   "id": "dc4e693f-17a1-4ac8-937f-586a7ec0ada6",
   "metadata": {},
   "outputs": [],
   "source": [
    "def pixels_as_hex(pixels):\n",
    "    return [rgb_to_hex(pixel[0], pixel[1], pixel[2]) for pixel in pixels]    "
   ]
  },
  {
   "cell_type": "code",
   "execution_count": 27,
   "id": "ba64c76f-1730-4b75-8e10-df72d51bbfc6",
   "metadata": {},
   "outputs": [],
   "source": [
    "def rgb_to_hex(r, g, b):\n",
    "    def _base_sixteen(num, numerals=\"0123456789ABCDEF\"):\n",
    "        if num < len(numerals):\n",
    "            return numerals[num]\n",
    "        else:\n",
    "            return numerals[num // 16] + _base_sixteen(num % 16)\n",
    "\n",
    "    r = _base_sixteen(r)\n",
    "    g = _base_sixteen(g)\n",
    "    b = _base_sixteen(b)\n",
    "    return f\"#{r:02}{g:02}{b:02}\""
   ]
  },
  {
   "cell_type": "code",
   "execution_count": 38,
   "id": "0c7c8cb9-39fd-44ed-8fa1-6af1101778a9",
   "metadata": {},
   "outputs": [],
   "source": [
    "# Get the top 10 banned books in US public libraries\n",
    "top_banned_books = data \\\n",
    "    .groupby('title')['ID'] \\\n",
    "    .nunique() \\\n",
    "    .sort_values(ascending=False)\n",
    "\n",
    "# display(top_banned_books)\n",
    "searches = []\n",
    "for name, _ in top_banned_books.items():\n",
    "    book = data.loc[data['title'] == name].iloc[0]\n",
    "    searches.append((book.author, book.title))"
   ]
  },
  {
   "cell_type": "code",
   "execution_count": 58,
   "id": "63b794d0-9285-4e7f-b5a2-c0eaabe6f2e5",
   "metadata": {},
   "outputs": [
    {
     "name": "stderr",
     "output_type": "stream",
     "text": [
      "2023-11-08 10:19:24,093 - INFO - Author: Kobabe, Maia - Book: Gender Queer: A Memoir - Message: fetching: 'https://openlibrary.org/search.json?author=Lucas%2C+Chad&q=Thanks+a+Lot%2C+Universe'\n",
      "2023-11-08 10:19:24,093 - INFO - Author: Kobabe, Maia - Book: Gender Queer: A Memoir - Message: fetching: 'https://openlibrary.org/search.json?author=Lucas%2C+Chad&q=Thanks+a+Lot%2C+Universe'\n",
      "2023-11-08 10:19:24,093 - INFO - Author: Rud, Jeff - Book: Crossover - Message: fetching: 'https://openlibrary.org/search.json?author=Lucas%2C+Chad&q=Thanks+a+Lot%2C+Universe'\n",
      "2023-11-08 10:19:24,093 - INFO - Author: Rocha, Lucas - Book: Where We Go From Here - Message: fetching: 'https://openlibrary.org/search.json?author=Lucas%2C+Chad&q=Thanks+a+Lot%2C+Universe'\n",
      "2023-11-08 10:19:24,093 - INFO - Author: Lucas, Chad - Book: Thanks a Lot, Universe - Message: fetching: 'https://openlibrary.org/search.json?author=Lucas%2C+Chad&q=Thanks+a+Lot%2C+Universe'\n"
     ]
    },
    {
     "name": "stdout",
     "output_type": "stream",
     "text": [
      "622\n"
     ]
    },
    {
     "name": "stderr",
     "output_type": "stream",
     "text": [
      "2023-11-08 10:19:24,416 - INFO - Author: Kobabe, Maia - Book: Gender Queer: A Memoir - Message: fetching: 'https://covers.openlibrary.org/b/isbn/164700134X-L.jpg'\n",
      "2023-11-08 10:19:24,416 - INFO - Author: Kobabe, Maia - Book: Gender Queer: A Memoir - Message: fetching: 'https://covers.openlibrary.org/b/isbn/164700134X-L.jpg'\n",
      "2023-11-08 10:19:24,416 - INFO - Author: Rud, Jeff - Book: Crossover - Message: fetching: 'https://covers.openlibrary.org/b/isbn/164700134X-L.jpg'\n",
      "2023-11-08 10:19:24,416 - INFO - Author: Rocha, Lucas - Book: Where We Go From Here - Message: fetching: 'https://covers.openlibrary.org/b/isbn/164700134X-L.jpg'\n",
      "2023-11-08 10:19:24,416 - INFO - Author: Lucas, Chad - Book: Thanks a Lot, Universe - Message: fetching: 'https://covers.openlibrary.org/b/isbn/164700134X-L.jpg'\n",
      "2023-11-08 10:19:24,753 - WARNING - Author: Kobabe, Maia - Book: Gender Queer: A Memoir - Message: Cover not located for isbn: '164700134X'\n",
      "2023-11-08 10:19:24,753 - WARNING - Author: Kobabe, Maia - Book: Gender Queer: A Memoir - Message: Cover not located for isbn: '164700134X'\n",
      "2023-11-08 10:19:24,753 - WARNING - Author: Rud, Jeff - Book: Crossover - Message: Cover not located for isbn: '164700134X'\n",
      "2023-11-08 10:19:24,753 - WARNING - Author: Rocha, Lucas - Book: Where We Go From Here - Message: Cover not located for isbn: '164700134X'\n",
      "2023-11-08 10:19:24,753 - WARNING - Author: Lucas, Chad - Book: Thanks a Lot, Universe - Message: Cover not located for isbn: '164700134X'\n",
      "2023-11-08 10:19:24,758 - INFO - Author: Kobabe, Maia - Book: Gender Queer: A Memoir - Message: fetching: 'https://covers.openlibrary.org/b/isbn/1419751034-L.jpg'\n",
      "2023-11-08 10:19:24,758 - INFO - Author: Kobabe, Maia - Book: Gender Queer: A Memoir - Message: fetching: 'https://covers.openlibrary.org/b/isbn/1419751034-L.jpg'\n",
      "2023-11-08 10:19:24,758 - INFO - Author: Rud, Jeff - Book: Crossover - Message: fetching: 'https://covers.openlibrary.org/b/isbn/1419751034-L.jpg'\n",
      "2023-11-08 10:19:24,758 - INFO - Author: Rocha, Lucas - Book: Where We Go From Here - Message: fetching: 'https://covers.openlibrary.org/b/isbn/1419751034-L.jpg'\n",
      "2023-11-08 10:19:24,758 - INFO - Author: Lucas, Chad - Book: Thanks a Lot, Universe - Message: fetching: 'https://covers.openlibrary.org/b/isbn/1419751034-L.jpg'\n",
      "2023-11-08 10:19:25,023 - WARNING - Author: Kobabe, Maia - Book: Gender Queer: A Memoir - Message: Cover not located for isbn: '1419751034'\n",
      "2023-11-08 10:19:25,023 - WARNING - Author: Kobabe, Maia - Book: Gender Queer: A Memoir - Message: Cover not located for isbn: '1419751034'\n",
      "2023-11-08 10:19:25,023 - WARNING - Author: Rud, Jeff - Book: Crossover - Message: Cover not located for isbn: '1419751034'\n",
      "2023-11-08 10:19:25,023 - WARNING - Author: Rocha, Lucas - Book: Where We Go From Here - Message: Cover not located for isbn: '1419751034'\n",
      "2023-11-08 10:19:25,023 - WARNING - Author: Lucas, Chad - Book: Thanks a Lot, Universe - Message: Cover not located for isbn: '1419751034'\n",
      "2023-11-08 10:19:25,027 - INFO - Author: Kobabe, Maia - Book: Gender Queer: A Memoir - Message: fetching: 'https://covers.openlibrary.org/b/isbn/1419751026-L.jpg'\n",
      "2023-11-08 10:19:25,027 - INFO - Author: Kobabe, Maia - Book: Gender Queer: A Memoir - Message: fetching: 'https://covers.openlibrary.org/b/isbn/1419751026-L.jpg'\n",
      "2023-11-08 10:19:25,027 - INFO - Author: Rud, Jeff - Book: Crossover - Message: fetching: 'https://covers.openlibrary.org/b/isbn/1419751026-L.jpg'\n",
      "2023-11-08 10:19:25,027 - INFO - Author: Rocha, Lucas - Book: Where We Go From Here - Message: fetching: 'https://covers.openlibrary.org/b/isbn/1419751026-L.jpg'\n",
      "2023-11-08 10:19:25,027 - INFO - Author: Lucas, Chad - Book: Thanks a Lot, Universe - Message: fetching: 'https://covers.openlibrary.org/b/isbn/1419751026-L.jpg'\n",
      "2023-11-08 10:19:26,105 - INFO - Author: Kobabe, Maia - Book: Gender Queer: A Memoir - Message: All info located\n",
      "2023-11-08 10:19:26,105 - INFO - Author: Kobabe, Maia - Book: Gender Queer: A Memoir - Message: All info located\n",
      "2023-11-08 10:19:26,105 - INFO - Author: Rud, Jeff - Book: Crossover - Message: All info located\n",
      "2023-11-08 10:19:26,105 - INFO - Author: Rocha, Lucas - Book: Where We Go From Here - Message: All info located\n",
      "2023-11-08 10:19:26,105 - INFO - Author: Lucas, Chad - Book: Thanks a Lot, Universe - Message: All info located\n"
     ]
    }
   ],
   "source": [
    "# rip top 10 covers\n",
    "all_info = []\n",
    "# print(searches)\n",
    "\n",
    "idx = int(random.default_rng().uniform(low=0, high=len(searches)))\n",
    "print(idx)\n",
    "author, title = searches[idx:idx + 1][0]\n",
    "try:\n",
    "    book_info = get_book_info_and_cover(author, title)\n",
    "    all_info.append(book_info)\n",
    "except Exception as e:\n",
    "    logger.exception(str(e))"
   ]
  },
  {
   "cell_type": "code",
   "execution_count": 59,
   "id": "6b9dd68a-083f-4172-b0ef-d5c4348e9849",
   "metadata": {},
   "outputs": [
    {
     "name": "stdout",
     "output_type": "stream",
     "text": [
      "$$$$$$$$$$$$$$$$$$$$$$$$$$$$$$$$$$$$$$$$$$$$$$$$********=***********************\n",
      "$$$*********************************************==******************************\n",
      "$$#================================================**************==******=======\n",
      "$$#=================*##*=**============================*****************===!!!!!\n",
      "$$#========================================================***********=!!!!!!!!!\n",
      "$$#=====================!!==!====!=!!!==!!!!=!!====!!=!===========**==!!!!!!!!!!\n",
      "$$#=====================!!!!!!!!!!=!!!=!!!!!=!!!=!!!!!!!==============;!!!!!!!!!\n",
      "$$#===***************=============!!==!===============================!;!!!!!!!!\n",
      "$$#===$$$$$$$$$$###*====================================================!!;;;;;;\n",
      "$$#!===#$$$$$#**==****==================================================;;;;;;;;\n",
      "$$#=====**#*===####*****========================**===***#######*========;;!!!!!!\n",
      "$$#===============******=================================***###=======!!!!!!!!;;\n",
      "$$#=======================****=*=*==*===*==*=*==*=**=================!!!!!!!;;;;\n",
      "$$#!=======================##=*#=$==$*!*$==#=#*#**#=================!!!!!!!;;;;;\n",
      "$$$#######*================##==#=#==##=*$#=#=##*=*#============!!!;;!!!!!!!!!!!!\n",
      "$$$$$$$#*==================##==#*$=****=##*#=#$===#*==========!!;;;!!;!!!!!;;;;;\n",
      "$$$$#*=====================##!=#=#=#**#=#=##=###===#=========!;!!;;!===!!!==;:;;\n",
      "$$#========================*#==#=$*#==#=#=*$=#=#*==*#=========!;;~;=*!=!!;!==;;;\n",
      "$$#!=======================*#==#=#**====*==*=*==#===$==============#*;:-~;!=*=**\n",
      "$$#========================**=====================**============!~==*==!!===!!==\n",
      "$$#==============================*====*==***=*#*================:-;!;~-~~~~:!!!!\n",
      "$$*!============================##====#=*#=#=*#=================-,,;!!;:~~--!!!!\n",
      "!!!!!!!!!!!!====================##*===#=*#!#**#===============!:,,,:;!!!!!!!!!!!\n",
      "!!!!!!!!!!!!!==================*#*#===#=*#!#**#===============!-,----:;!!!!!!!!=\n",
      "!!!!!!!=====!!!================##*#===#==#=#**#=*=============:,,,,-,-~::~~:~~::\n",
      "!!!!!!!!!!!=!!!!!=======*======#==#===#*=*#*==*=#============:~,-,--,---,------,\n",
      "!;::~;!!!!!!!!=!!!!=====#*=#======================*=*#*======!;,,,,-,-----------\n",
      "####*=!!!!!!!!!!!!!!====#*=#=##=**=*=*====**=#*=*#****========;~-,,-----,,------\n",
      "######=;!!!!!;!!!!!!====#*=#**$=**=#=#=***#==#=#*#!=**=========!:~~-,-,,----,,,-\n",
      "######=;!!!!;!!!!!!!====#*=#=*#***=#=#*#=*#==##*=#*=*#===========!=~---,--,,,-,,\n",
      "####==!;;!!=!!!!!!!!====**!#=**##*=#=*##=*#==$#===#=*#=============;;!;-::--,,--\n",
      "####=;;;;!=!;!;;;!!=====**!#=***$*=#==$#!**!=##*===#**!================!==;;-;=$\n",
      "####*=!!==;;!;;;!!======*#=#=#*=$*=#==#*!*#==#=#**=#*#========*####*=======!!#@$\n",
      "####*;,-;**#*;;!*========**=====*==*==*===**=*=****==**==========*===========#$$\n",
      "***##=;;*####=;**#*==========================================================#$$\n",
      "**=*#########!=*#*#=================*===*=*===*==*=**========================#$$\n",
      "***=*#######*=**##=========##*##*##*$#==$*##*##*#$*##========================#$$\n",
      "############**#**============================================================#$$\n",
      "#***#######==================================================================#$$\n",
      "**#*#####*===================================================================#$$\n",
      "########*===================***===================================******===*=#$$\n",
      "#####***=====================**===================================******===**#$$\n",
      "**#***#*============================!!!!==============*!!!!!!!!!!!*#*;;=*****$$$\n",
      "****####============================!!!!===!=========#$*!!=*******#*;-~~~!##*#$$\n",
      "########=================================!=*#$#=====$####$$$$$$$$$$#*;~~~~::~*@$\n",
      "##########****===========================*$$###$#=!=###$$$#########$$$*~~~~~~*@$\n",
      "###########*##$##**==========*###########$#=!###=:~~~;$$$$=#######=#$#$;-~~~-*@$\n",
      "###########*##$$$$$$##**###*!:=*####$*!:::~~~~~:~~~~-:$###=$######=###$!-~~~-*@$\n",
      "#############$$$$$$$$$$$$$#~-~~~::;==:~~~~~~~~~~~~~~-:*###=*******=###*:-~~~-*@$\n",
      "#############$$$$$$$$$$$$$$#!~---~~--~~~~~~~~~~~~--~~-~~:!=========!:~--~--~-*@$\n",
      "$#######$$$$$$$$$$$$$$$#$$$$$*:-~~~~~~~~~~~~~~~~~~~~~~~----:!*=*!:---~~~~~~~-*@$\n",
      "$$$$$$$$$$$$$$$$$$###$##$$$$$$#=;;;;;;;;;;;;;;;;;;;;;;;;;;;;=====;;;;;;;;;;;;*$$\n",
      "$$$$$$$$$$$$$$$$$$#$$###$$$$$$##*!;;;;;;;;;;;;;;;;;;;;;;;;;;;!!!;;;;;;;;;;;;;*$$\n",
      "$$$$$$$$$$$$$$$$$$$$#####$$$$$$#$*!==========================***=============#$$\n",
      "$$$$$$$$$$$$$$$$$$$$####$$$$$$$$$$$$$$$$$$$$$$$$$$$$$$$$$$$$$$$$$$$$$$$$$$$$$$$$\n",
      "\n"
     ]
    }
   ],
   "source": [
    "ascii_picture = render_ascii(all_info[0][\"cover\"], new_width=80)\n",
    "\n",
    "# for line in ascii_picture[0]:\n",
    "#     for char in line:\n",
    "#         print(char, end='')\n",
    "\n",
    "# print(ascii_picture[0])\n",
    "\n",
    "final_cover = \"\"\n",
    "for line in ascii_picture[0]:\n",
    "    for char in line:\n",
    "        final_cover = final_cover + char\n",
    "    final_cover = final_cover + \"\\n\"\n",
    "\n",
    "with open(\"../data/image.txt\", \"w\") as image:\n",
    "    image.write(final_cover)\n",
    "print(final_cover)"
   ]
  },
  {
   "cell_type": "code",
   "execution_count": null,
   "id": "2205111a-597a-4acc-8430-a9cfcbd535c1",
   "metadata": {},
   "outputs": [],
   "source": []
  },
  {
   "cell_type": "code",
   "execution_count": null,
   "id": "d8f01729-0480-4886-bbf6-7c779068a11d",
   "metadata": {},
   "outputs": [],
   "source": []
  }
 ],
 "metadata": {
  "kernelspec": {
   "display_name": "Python 3 (ipykernel)",
   "language": "python",
   "name": "python3"
  },
  "language_info": {
   "codemirror_mode": {
    "name": "ipython",
    "version": 3
   },
   "file_extension": ".py",
   "mimetype": "text/x-python",
   "name": "python",
   "nbconvert_exporter": "python",
   "pygments_lexer": "ipython3",
   "version": "3.11.2"
  }
 },
 "nbformat": 4,
 "nbformat_minor": 5
}
