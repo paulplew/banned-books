{
 "cells": [
  {
   "cell_type": "markdown",
   "id": "effd0bc8-36fd-416a-b87b-b4d55bb344bc",
   "metadata": {},
   "source": [
    "# "
   ]
  },
  {
   "cell_type": "code",
   "execution_count": null,
   "id": "ec39b209-5ecc-4960-b483-88ea89cfedc7",
   "metadata": {},
   "outputs": [],
   "source": [
    "from pathlib import Path\n",
    "from string import ascii_letters\n",
    "from random import choice, random\n",
    "# from pyperclip import copy\n",
    "from time import sleep\n",
    "from colors import strip_color, parse_rgb, ansilen, color\n",
    "import os\n",
    "import glob\n",
    "\n",
    "from IPython.display import clear_output"
   ]
  },
  {
   "cell_type": "code",
   "execution_count": null,
   "id": "8705360d-1e2f-4a3a-8104-d4f58d40c536",
   "metadata": {},
   "outputs": [],
   "source": [
    "def build_display_state(chars_2d, colors=None):\n",
    "    final = \"\"\n",
    "    for i, line in enumerate(chars_2d):\n",
    "        for j, char in enumerate(line):\n",
    "            if colors: \n",
    "                final = final + f\"{colors[i][j]}{char}\"\n",
    "            else:\n",
    "                final += char\n",
    "        # final = final + \"\\n\"\n",
    "        \n",
    "    return final"
   ]
  },
  {
   "cell_type": "code",
   "execution_count": null,
   "id": "6fc620c6-b66e-415d-9b08-2e5670b2150f",
   "metadata": {},
   "outputs": [],
   "source": [
    "file = Path(\"../data/image.txt\")\n",
    "\n",
    "color_codes = []\n",
    "final_chars = []\n",
    "\n",
    "with open(file, \"r\") as f:\n",
    "    for i, line in enumerate(f):\n",
    "        final_chars.append([])\n",
    "        color_codes.append([])\n",
    "        \n",
    "        if i == 1:\n",
    "            first_line = line\n",
    "        for char in strip_color(line):\n",
    "            color = line[:line.index(char)]\n",
    "            line = line[line.index(char) + 1:]\n",
    "\n",
    "            color_codes[-1].append(color)\n",
    "            final_chars[-1].append(char)\n",
    "\n",
    "\n",
    "# print(list(color_codes[0][0]))\n",
    "# print(list(first_line))\n",
    "# "
   ]
  },
  {
   "cell_type": "code",
   "execution_count": null,
   "id": "60b57b1f-0d06-426b-b70d-f53ec109a3a3",
   "metadata": {},
   "outputs": [],
   "source": [
    "letters = ascii_letters[0:26]\n",
    "\n",
    "height = len(final_chars[0])\n",
    "width = len(final_chars)\n",
    "\n",
    "current_state = []\n",
    "for i in range(width):\n",
    "    current_state.append([])\n",
    "\n",
    "    for j in range(height):\n",
    "        if j == height - 1:\n",
    "            current_state[-1].append(\"\\n\")\n",
    "        else:\n",
    "            current_state[-1].append(choice(letters))\n",
    "\n",
    "\n",
    "for i, line in enumerate(current_state):\n",
    "    assert len(final_chars[i]) == len(line), i"
   ]
  },
  {
   "cell_type": "code",
   "execution_count": null,
   "id": "9dbec7f3-b899-4562-bc83-ac1d6ab08118",
   "metadata": {},
   "outputs": [],
   "source": [
    "files = glob.glob('../flipbook/*.txt')\n",
    "for f in files:\n",
    "    os.remove(f)\n",
    "\n",
    "\n",
    "iteration = 0\n",
    "page = \"../flipbook/page{}.txt\"\n",
    "p = 0.2\n",
    "\n",
    "while current_state != final_chars:\n",
    "    # clear_output()\n",
    "    # print(build_display_state(current_state))\n",
    "    # sleep(0.5)\n",
    "    \n",
    "    iteration += 1\n",
    "    \n",
    "    with open(Path(page.format(f'{iteration:03}')), \"w\") as f:\n",
    "        f.write(build_display_state(current_state))\n",
    "        \n",
    "    for i, (current_line, goal_line) in enumerate(zip(current_state, final_chars)):\n",
    "        if current_line == goal_line:\n",
    "            continue\n",
    "            \n",
    "        for j, (current_char, goal_char) in enumerate(zip(current_line, goal_line)):\n",
    "            if current_char == goal_char:\n",
    "                continue  \n",
    "            elif random() < p:\n",
    "                current_state[i][j] = final_chars[i][j]\n",
    "            else:\n",
    "                current_state[i][j] = choice(letters)"
   ]
  },
  {
   "cell_type": "code",
   "execution_count": null,
   "id": "1dcfee74-1f36-4288-8443-50d887b17141",
   "metadata": {},
   "outputs": [],
   "source": [
    "# print(build_display_state(final_chars, color_codes))"
   ]
  },
  {
   "cell_type": "code",
   "execution_count": null,
   "id": "408532ed-846d-4008-a325-f59f9fe5c385",
   "metadata": {},
   "outputs": [],
   "source": []
  }
 ],
 "metadata": {
  "kernelspec": {
   "display_name": "Python 3 (ipykernel)",
   "language": "python",
   "name": "python3"
  },
  "language_info": {
   "codemirror_mode": {
    "name": "ipython",
    "version": 3
   },
   "file_extension": ".py",
   "mimetype": "text/x-python",
   "name": "python",
   "nbconvert_exporter": "python",
   "pygments_lexer": "ipython3",
   "version": "3.11.2"
  }
 },
 "nbformat": 4,
 "nbformat_minor": 5
}
